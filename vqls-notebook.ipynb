{
 "cells": [
  {
   "cell_type": "markdown",
   "metadata": {},
   "source": [
    "# <p style=\"text-align: center;\"> Variational Quantum Linear Solver on Rigetti QCS </p>"
   ]
  },
  {
   "cell_type": "markdown",
   "metadata": {},
   "source": [
    "<p style=\"text-align: center;\"> Ryan LaRose, Department of Computational Mathematics, Science, and Engineering & Department of Physics and Astronomy, Michigan State University </p>"
   ]
  },
  {
   "cell_type": "markdown",
   "metadata": {},
   "source": [
    "<img src=\"main.png\" alt=\"Overview of VQLS\">"
   ]
  },
  {
   "cell_type": "markdown",
   "metadata": {},
   "source": [
    "### <p style=\"text-align: center;\"> Abstract </p>"
   ]
  },
  {
   "cell_type": "markdown",
   "metadata": {},
   "source": [
    "<p style=\"text-align: justify;\"> The variational quantum linear solver (VQLS) [1] is an algorithm for solving linear systems on near-term quantum computers. While VQLS does not offer performance guaruntees like other quantum linear systems algorithms [2-3], the ability to run on near-term computers makes it an interesting problem-specific benchmark. In this notebook, we provide a brief tutorial of VQLS and show results of running VQLS on Rigetti QCS for example linear systems. </p>"
   ]
  },
  {
   "cell_type": "markdown",
   "metadata": {},
   "source": [
    "## <p style=\"text-align: center;\"> Notebook Setup </p>"
   ]
  },
  {
   "cell_type": "markdown",
   "metadata": {},
   "source": [
    "<p style=\"text-align: justify;\"> We use pyQuil to write the VQLS algorithm and send job submissions to Rigetti QCS. In the notebook, we use the Rigetti QVM for tutorial purposes. When running on the device, the code written in the notebook is converted to a script and executed on the QPU. </p>"
   ]
  },
  {
   "cell_type": "code",
   "execution_count": null,
   "metadata": {},
   "outputs": [],
   "source": [
    "\"\"\"Imports.\"\"\"\n",
    "from itertools import product\n",
    "from math import pi\n",
    "import time\n",
    "from typing import List, Tuple\n",
    "\n",
    "import matplotlib.pyplot as plt\n",
    "import networkx as nx\n",
    "import numpy as np\n",
    "from scipy.optimize import minimize\n",
    "\n",
    "import pyquil\n",
    "from pyquil import Program, get_qc\n",
    "import pyquil.gates as gates\n",
    "\n",
    "import vqls"
   ]
  },
  {
   "cell_type": "markdown",
   "metadata": {},
   "source": [
    "# <p style=\"text-align: center;\"> The VQLS Algorithm </p>"
   ]
  },
  {
   "cell_type": "markdown",
   "metadata": {},
   "source": [
    "A linear system $A \\mathbf{x} = \\mathbf{b}$ is defined by a matrix $A \\in \\mathbb{C}^{N \\times N}$ and vector $\\mathbf{b} \\in \\mathbb{C}^{N}$. Given $A$ and $\\mathbf{b}$ as input, the goal is to output $\\mathbf{x} \\in \\mathbb{C}^{N}$, or an approximate solution $\\mathbf{\\bar{x}}$ where $|| \\mathbf{\\bar{x}} - \\mathbf{x} || \\le \\delta$. "
   ]
  },
  {
   "cell_type": "markdown",
   "metadata": {},
   "source": [
    "### <p style=\"text-align: center;\"> Problem Setup </p>"
   ]
  },
  {
   "cell_type": "markdown",
   "metadata": {},
   "source": [
    "<p style=\"text-align: justify;\"> How can we solve linear systems of equations with a (near-term) quantum computer? Without loss of generality, we can express the matrix $A$ is a linear combination of Paulis</p>\n",
    "\n",
    "\\begin{equation}\n",
    "    A = \\sum_{l = 1}^{L} a_l A_l .\n",
    "\\end{equation}\n",
    "\n",
    "<p style=\"text-align: justify;\"> The vector $|\\mathbf{b}\\rangle$ is assumed to have some unitary $B$ which prepares it from the ground state, i.e. $B|0\\rangle = |\\mathbf{b}\\rangle$. We can also take $B = \\sum_{m = 1}^{M} b_m B_m$ as a linear combination of Paulis. </p>\n",
    "\n",
    "We want to prepare a state\n",
    "\n",
    "\\begin{equation}\n",
    "    |\\mathbf{\\theta}\\rangle := V(\\mathbf{\\theta}) |0\\rangle \n",
    "\\end{equation}\n",
    "\n",
    "<p style=\"text-align: justify;\"> which has high fidelity $| \\langle \\theta | \\mathbf{x} \\rangle |^2$ with the solution $|x\\rangle$ of the linear system $A |\\mathbf{x}\\rangle = |\\mathbf{b}\\rangle $. Equivalenlty, we want a state $|\\theta\\rangle$ such that $A |\\theta\\rangle$ is close to $|\\mathbf{b}\\rangle$. By maximizing the fidelity $|\\langle \\mathbf{b} | A |\\theta\\rangle|^2$ where\n",
    "\n",
    "\\begin{equation}\n",
    "    \\langle \\mathbf{b} | A |\\theta\\rangle = \\langle 0 | B^\\dagger A V(\\theta) |0\\rangle = \\sum_{l = 1}^{L} c_l \\langle 0 | B^\\dagger A_l V(\\theta) |0\\rangle .\n",
    "\\end{equation}\n",
    "\n",
    "one can obtain an approximate solution $|\\theta_\\text{opt}\\rangle = V(\\theta_\\text{opt}) |0\\rangle$ to the linear system. \n",
    "\n",
    "One way to compute the fidelity is via the Hadamard Test or extensions of the Hadamard Test [1]. Another way is described below."
   ]
  },
  {
   "cell_type": "markdown",
   "metadata": {},
   "source": [
    "### <p style=\"text-align: center;\"> The Effective Hamiltonian Approach </p>"
   ]
  },
  {
   "cell_type": "markdown",
   "metadata": {},
   "source": [
    "An interesting connection to other linear systems work [4] and variational algorithms literature [5] is to note that the above prescription is equivalent to minimizing the energy of an effective Hamiltonian\n",
    "\n",
    "\\begin{equation}\n",
    "    H_{A, \\mathbf{b}} \\equiv H := A^\\dagger ( I - |\\mathbf{b}\\rangle \\langle \\mathbf{b} | ) A\n",
    "\\end{equation}\n",
    "\n",
    "<p style=\"text-align: justify;\">\n",
    "This can be seen by noting that $H$ is positive semidefinite and $H |\\mathbf{x}\\rangle = 0$. Thus, by minimizing $\\langle \\theta | H |\\theta \\rangle$, we can get an approximate solution to the linear system. A key advantage of this approach is the ability to compute expectation values in a hardware efficient manner. (That is, not using controlled gates required by the Hadamard test but instead using classical post-processing [5-7].) We use this <b>effective Hamiltonian approach</b> in our simulations below.\n",
    "</p>\n",
    "\n",
    "Noting that $H = A^\\dagger A - A^\\dagger P_{\\mathbf{b}} A$ where $P_{\\mathbf{b}} := |\\mathbf{b}\\rangle \\langle \\mathbf{b} |$ is the projector onto the $|\\mathbf{b}\\rangle$ state, we have two terms to evaluate. For the first, one can show that\n",
    "\n",
    "\\begin{equation}\n",
    "    A^\\dagger A = \\sum_{l = 1}^{L} |a_l|^2 I + 2 \\sum_{1 = l < k}^{L - 1} \\text{Re} \\, [a_l^* a_k ] A_l A_k .\n",
    "\\end{equation}\n",
    "\n",
    "The expectation of the first summation can be computed classically, while the second requires $L (L - 1) / 2 = O(L^2)$ circuit evaluations. \n",
    "\n",
    "For the second term in the Hamiltonian $H$, one can see that\n",
    "\n",
    "\\begin{equation}\n",
    "    A^\\dagger P_{\\mathbf{b}} A = \\sum_{k = 1}^{L} \\sum_{l = 1}^{L} a_k^* a_l A_k P_\\mathbf{b} A_l .\n",
    "\\end{equation}\n",
    "\n",
    "Assuming $B = \\sum_{m = 1}^{M} b_m B_m$, the projector $P_\\mathbf{b} = B|0\\rangle \\langle 0 | B^\\dagger$ can be expanded as a linear combination of unitaries as well. Note that $|0\\rangle\\langle0| = (I + Z) / 2$. In general, there are $N M^2 L^2$ weighted Pauli operators in this term ($N = 2^n$ where $n$ is the number of qubits).  \n",
    "\n",
    "As mentioned, the <font color=\"green\"><b>advantage</b></font> of this approach is the short-depth circuits for cost evaluation. The <font color=\"red\"><b>disadvantage</b></font> of this approach is that it can lead to many terms in the Pauli expansion of $H_{A, \\mathbf{b}}$. An interesting observation is the \"physicality\" of this effective Hamiltonian -- namely, physical Hamiltonians usually have (or are assumed to have) poly($n$) terms, while this Hamiltonian has $O(N)$ terms in the worst case. We remark that simplifications which reduce the number of terms in the effective Hamiltonian $H_{A, \\textbf{b}}$ are usually possible. Additionally, computing $\\langle H \\rangle$ by exploiting simulataneous measurements of observables can mitigate the large number of terms."
   ]
  },
  {
   "cell_type": "markdown",
   "metadata": {},
   "source": [
    "# <p style=\"text-align: center;\"> Linear System 1 </p>"
   ]
  },
  {
   "cell_type": "markdown",
   "metadata": {},
   "source": [
    "<p style=\"text-align: justify;\"> The first linear system we consider is an example from the VQLS paper. Our motivation for this is to compare results from the paper (which used older Rigetti computers) to results we get on the new computers. The linear system is a three- to five-qubit example given by </p>\n",
    "\n",
    "\\begin{equation}\n",
    "    A_1 = I + 0.2 X_1 + 0.2 X_1 Z_2 .\n",
    "\\end{equation}\n",
    "\n",
    "and $\\mathbf{b}_1 = H_1 H_2 H_4 H_4 |0\\rangle^{\\otimes n}$. Here, $I, X, Y$ and $Z$ are the usual Pauli operators\n",
    "\n",
    "\\begin{equation}\n",
    "    I := \\left[ \\begin{matrix}\n",
    "    1 & 0 \\\\\n",
    "    0 & 1 \\\\\n",
    "    \\end{matrix} \\right], \\qquad \n",
    "    X := \\left[ \\begin{matrix}\n",
    "    0 & 1 \\\\\n",
    "    1 & 0 \\\\\n",
    "    \\end{matrix} \\right], \\qquad \n",
    "    Y := \\left[ \\begin{matrix}\n",
    "    0 & -i \\\\\n",
    "    i & 0 \\\\\n",
    "    \\end{matrix} \\right], \\qquad \n",
    "    Z := \\left[ \\begin{matrix}\n",
    "    1 & 0 \\\\\n",
    "    0 & -1 \\\\\n",
    "    \\end{matrix} \\right]\n",
    "\\end{equation}\n",
    "\n",
    "and subscripts indicate which qubits the Paulis act on. For example, $X_1$ means $X$ on the first qubit, i.e. $XII$ on three qubits or $X I I I I$ on five qubits.\n",
    "\n",
    "\n",
    "For concreteness, we can reduce to three qubits and view the $8 \\times 8$ matrix of this linear system. (Of course this works for any number of qubits, but we quickly run out of room on the screen!)"
   ]
  },
  {
   "cell_type": "code",
   "execution_count": null,
   "metadata": {
    "scrolled": true
   },
   "outputs": [],
   "source": [
    "\"\"\"View the matrix of a linear system.\"\"\"\n",
    "Acoeffs = [1., 0.2, 0.2]\n",
    "Aterms = [\"III\", \"XII\", \"XZI\"]\n",
    "print(\"The matrix of the linear system is:\")\n",
    "print(np.real(vqls.matrix(Acoeffs, Aterms)))"
   ]
  },
  {
   "cell_type": "markdown",
   "metadata": {},
   "source": [
    "<font color=\"blue\"><b>Note:</b></font> The matrix is quite sparse. This is expected for linear systems with only a few weighted Paulis, as Pauli strings are sparse matrices. \n",
    "\n",
    "Using the identity $H = (I + Z) / \\sqrt{2}$, we can expand the $B$ unitary as \n",
    "\n",
    "\\begin{align}\n",
    "    B &= \\frac{1}{2^2} (I + Z) \\otimes (I + Z) \\otimes I \\otimes (I + Z) \\otimes (I + Z) \\\\\n",
    "      &= \\frac{1}{2^2} \\left[ IIIII + IIIIZ + IIIZI + IIIZZ + IZIII + IZIIZ + IZIZI + IZIZZ + \\cdots \\right]\n",
    "\\end{align}"
   ]
  },
  {
   "cell_type": "markdown",
   "metadata": {},
   "source": [
    "## <p style=\"text-align: center;\"> Three Qubit Tutorial </p>"
   ]
  },
  {
   "cell_type": "markdown",
   "metadata": {},
   "source": [
    "Below we consider the three-qubit verstion of the linear system above. First, we define the linear system in terms of $A$ and $B$, then compute the effective Hamiltonian of the linear system. "
   ]
  },
  {
   "cell_type": "code",
   "execution_count": null,
   "metadata": {
    "scrolled": true
   },
   "outputs": [],
   "source": [
    "\"\"\"Terms in effective Hamiltonian for first linear system.\"\"\"\n",
    "n = 3\n",
    "Bcoeffs = [1 / 2**(n / 2)] * 2**n\n",
    "paulis = [[\"X\", \"Z\"]] * n\n",
    "prods = list(product(*paulis))\n",
    "Bterms = [\"\".join(p) for p in prods]\n",
    "Acoeffs = [1, 0.2, 0.2]\n",
    "Aterms = [\"III\", \"XII\", \"XZI\"]\n",
    "\n",
    "ham = vqls.effective_hamiltonian(Acoeffs, Aterms, Bcoeffs, Bterms)\n",
    "nterms = len(ham)\n",
    "print(\"Number of terms:\", nterms)\n",
    "print(\"H = \")\n",
    "for ii in range(nterms):\n",
    "    print(f\"{round(ham[ii][0], 3)} \\t* \\t{ham[ii][1]}\", (lambda ii: \"+\" if ii < nterms - 1 else \"\")(ii))"
   ]
  },
  {
   "cell_type": "markdown",
   "metadata": {},
   "source": [
    "To evaluate these terms with a quantum computer, we first need a quantum computer! Below we select the three-qubit lattice `Aspen-7-3Q-B`. "
   ]
  },
  {
   "cell_type": "code",
   "execution_count": null,
   "metadata": {},
   "outputs": [],
   "source": [
    "\"\"\"Get a quantum computer to run on.\"\"\"\n",
    "qcomputer = \"Aspen-7-3Q-B\"  # Three qubit lattice for testing optimizer\n",
    "lattice = get_qc(qcomputer, as_qvm=True)  # Change to as_qvm=False to run on QC. Must have reservation."
   ]
  },
  {
   "cell_type": "markdown",
   "metadata": {},
   "source": [
    "We can visualize the connectivity of this lattice by drawing the qubit topology. "
   ]
  },
  {
   "cell_type": "code",
   "execution_count": null,
   "metadata": {
    "scrolled": true
   },
   "outputs": [],
   "source": [
    "\"\"\"Visualize the qubit connectivity.\"\"\"\n",
    "graph = lattice.qubit_topology()\n",
    "nx.draw(graph)"
   ]
  },
  {
   "cell_type": "markdown",
   "metadata": {},
   "source": [
    "### <p style=\"text-align: center;\"> Variational Ansatz </p>"
   ]
  },
  {
   "cell_type": "markdown",
   "metadata": {},
   "source": [
    "The next and final ingredient we need to compute $\\langle \\theta | H | \\theta \\rangle$ is an ansatz state $|\\theta\\rangle$. We take this to be a product of $Y$-rotations on each qubit in the computer, obtained via the following function."
   ]
  },
  {
   "cell_type": "code",
   "execution_count": null,
   "metadata": {},
   "outputs": [],
   "source": [
    "\"\"\"Define an ansatz circuit.\"\"\"\n",
    "def yansatz(computer):\n",
    "    \"\"\"Returns a circuit with a product state ansatz.\"\"\"\n",
    "    n = len(computer.qubits())\n",
    "    # Get a circuit and classical memory register\n",
    "    circ = Program()\n",
    "    creg = circ.declare(\"ro\", memory_type=\"BIT\", memory_size=n)\n",
    "\n",
    "    # Define parameters for the ansatz\n",
    "    angles = circ.declare(\"theta\", memory_type=\"REAL\", memory_size=n)\n",
    "\n",
    "    # Add the ansatz\n",
    "    circ += [gates.RY(angles[ii], computer.qubits()[ii]) for ii in range(n)]\n",
    "    \n",
    "    return circ, creg"
   ]
  },
  {
   "cell_type": "markdown",
   "metadata": {},
   "source": [
    "We can visualize this ansatz below."
   ]
  },
  {
   "cell_type": "code",
   "execution_count": null,
   "metadata": {
    "scrolled": false
   },
   "outputs": [],
   "source": [
    "\"\"\"Get an ansatz and visualize it.\"\"\"\n",
    "circ, creg = yansatz(lattice)\n",
    "print(circ)"
   ]
  },
  {
   "cell_type": "markdown",
   "metadata": {},
   "source": [
    "As we see, the main circuit is simply $Y$-rotations on each qubit where the parameters `theta[0], theta[1], theta[2]` are independent.\n",
    "\n",
    "Next we define a function which inputs a particular $\\theta$ value and outputs $a \\langle \\theta | P | \\theta \\rangle$ where $(a, P)$ is some weighted Pauli term in the Hamiltonian. "
   ]
  },
  {
   "cell_type": "code",
   "execution_count": null,
   "metadata": {},
   "outputs": [],
   "source": [
    "# TODO: Put in VQ\n",
    "def expectation(angles: List[float], \n",
    "                coeff: complex, \n",
    "                pauli: str,\n",
    "                ansatz: pyquil.Program,\n",
    "                creg: pyquil.quilatom.MemoryReference,\n",
    "                computer: pyquil.api.QuantumComputer,\n",
    "                shots: int = 10000,\n",
    "                verbose: bool = False) -> float:\n",
    "    \"\"\"Returns coeff * <\\theta| paulii |\\theta>.\n",
    "    \n",
    "    Args:\n",
    "        angles: List of angles at which to evaluate coeff * <theta| pauli |theta>.\n",
    "        coeff: Coefficient of Pauli term.\n",
    "        pauli: Pauli string.\n",
    "        ansatz: pyQuil program representing the ansatz state.\n",
    "        creg: Classical register of ansatz to measure into.\n",
    "        computer: QuantumComputer to execute the circuit on.\n",
    "        shots: Number of times to execute the circuit (sampling statistics).\n",
    "        verbose: Option for visualization/debugging.\n",
    "    \"\"\"\n",
    "    if np.isclose(np.imag(coeff), 0.0):\n",
    "        coeff = np.real(coeff)\n",
    "\n",
    "    if set(pauli) == {\"I\"}:\n",
    "        return coeff\n",
    "    \n",
    "    # Set up the circuit\n",
    "    circuit = ansatz.copy()\n",
    "    qubits = computer.qubits()\n",
    "    measured = []\n",
    "    for (q, p) in enumerate(pauli):\n",
    "        if p == \"X\":\n",
    "            circuit += [gates.H(qubits[q]), gates.MEASURE(qubits[q], creg[q])]\n",
    "            measured.append(qubits[q])\n",
    "        elif p == \"Y\":\n",
    "            circuit += [gates.S(qubits[q]), gates.H(qubits[q]), gates.MEASURE(qubits[q], creg[q])]\n",
    "            measured.append(qubits[q])\n",
    "        elif p == \"Z\":\n",
    "            circuit += [gates.MEASURE(qubits[q], creg[q])]\n",
    "            measured.append(qubits[q])\n",
    "    \n",
    "    if verbose:\n",
    "        print(f\"Computing {coeff} x <theta|{pauli}|theta>...\")\n",
    "        print(\"\\nCircuit to be executed:\")\n",
    "        print(circuit)\n",
    "    \n",
    "    # Execute the circuit\n",
    "    circuit.wrap_in_numshots_loop(shots)\n",
    "    executable = computer.compile(circuit)\n",
    "    res = computer.run(executable, memory_map={\"theta\": angles})\n",
    "    \n",
    "    if verbose:\n",
    "        print(\"\\nResults:\")\n",
    "        print(f\"{len(res)} total measured bit strings.\")\n",
    "        print(res)\n",
    "    \n",
    "    # Do the postprocessing\n",
    "    tot = 0.0\n",
    "    for vals in res:\n",
    "        tot += (-1)**sum(vals)\n",
    "    return coeff * tot / shots"
   ]
  },
  {
   "cell_type": "code",
   "execution_count": null,
   "metadata": {
    "scrolled": false
   },
   "outputs": [],
   "source": [
    "\"\"\"Unit tests for expectation.\"\"\"\n",
    "SHOTS = 10000\n",
    "tol = 1e-1  # To be safe\n",
    "assert np.isclose(expectation([0] * n, 1, \"ZZZ\", circ, creg,\n",
    "                              lattice, shots=SHOTS), 1.0, atol=tol)\n",
    "assert np.isclose(expectation([0] * n, 0.8675309, \"ZZZ\", circ, creg,\n",
    "                              lattice, shots=SHOTS), 0.8675309, atol=tol)\n",
    "assert np.isclose(expectation([0] * n, 1, \"XII\", circ, creg,\n",
    "                              lattice, shots=SHOTS), 0.0, atol=tol)\n",
    "assert np.isclose(expectation([pi / 2, 0, 0], 1, \"XII\", circ, creg,\n",
    "                              lattice, shots=SHOTS), 1.0, atol=tol)\n",
    "assert np.isclose(expectation([pi / 2, pi / 2, 0], 1, \"XXI\", circ, creg,\n",
    "                              lattice, shots=SHOTS), 1.0, atol=tol)\n",
    "assert np.isclose(expectation([pi / 2, pi / 2, pi / 2], 1, \"XXX\", circ, creg,\n",
    "                              lattice, shots=SHOTS), 1.0, atol=tol)\n",
    "assert np.isclose(expectation([pi / 2, pi / 2, 0], 1, \"XXZ\", circ, creg,\n",
    "                              lattice, shots=SHOTS), 1.0, atol=tol)"
   ]
  },
  {
   "cell_type": "markdown",
   "metadata": {},
   "source": [
    "#### TODO: Utilize simultaneous measurements"
   ]
  },
  {
   "cell_type": "code",
   "execution_count": null,
   "metadata": {},
   "outputs": [],
   "source": [
    "# TODO: Put in vqls.py.\n",
    "def energy(angles, hamiltonian, ansatz, creg, computer, shots=10000, verbose=False):\n",
    "    \"\"\"Returns <theta|H|theta>.\n",
    "    \n",
    "    Args:\n",
    "        angles:\n",
    "        ham:\n",
    "        ansatz:\n",
    "        computer:\n",
    "        shots:\n",
    "        verbose:\n",
    "    \"\"\"\n",
    "    value = 0.0\n",
    "    for (coeff, pauli) in hamiltonian:\n",
    "        value += expectation(angles, coeff, pauli, ansatz, creg, computer, shots, verbose)\n",
    "    return value"
   ]
  },
  {
   "cell_type": "code",
   "execution_count": null,
   "metadata": {},
   "outputs": [],
   "source": [
    "\"\"\"Unit tests for energy.\"\"\"\n",
    "# Test 1\n",
    "n = 2\n",
    "test_hamiltonian = [(1.0, \"II\")]\n",
    "test_computer = get_qc(\"Aspen-7-2Q-B\", as_qvm=True)\n",
    "test_circuit, test_creg = yansatz(test_computer)\n",
    "assert np.isclose(\n",
    "    energy([0] * n, test_hamiltonian, test_circuit, test_creg, test_computer, shots=10000, verbose=False),\n",
    "    1.0,\n",
    "    atol=1e-5\n",
    ")\n",
    "\n",
    "# Test 2\n",
    "n = 2\n",
    "test_hamiltonian = [(1.0, \"II\"), (-0.1, \"IX\")]\n",
    "test_computer = get_qc(\"Aspen-7-2Q-B\", as_qvm=True)\n",
    "test_circuit, test_creg = yansatz(test_computer)\n",
    "assert np.isclose(\n",
    "    energy([0, 0], test_hamiltonian, test_circuit, test_creg, test_computer, shots=10000, verbose=False),\n",
    "    1.0,\n",
    "    1e-2\n",
    ")\n",
    "assert np.isclose(\n",
    "    energy([0, pi / 2], test_hamiltonian, test_circuit, test_creg, test_computer, shots=10000, verbose=False),\n",
    "    0.9,\n",
    "    1e-2\n",
    ")\n",
    "\n",
    "# TODO: More unit tests!"
   ]
  },
  {
   "cell_type": "code",
   "execution_count": null,
   "metadata": {},
   "outputs": [],
   "source": [
    "\"\"\"Cost function for linear system 1.\"\"\"\n",
    "def costLS1(angles):\n",
    "    val = energy(angles, ham, circ, creg, lattice, shots=10000)\n",
    "    print(\"Current angles:\", angles)\n",
    "    print(\"Current energy:\", val)\n",
    "    return val"
   ]
  },
  {
   "cell_type": "code",
   "execution_count": null,
   "metadata": {
    "scrolled": true
   },
   "outputs": [],
   "source": [
    "\"\"\"Do the optimization.\"\"\"\n",
    "start = time.time()\n",
    "res = minimize(costLS1, x0=np.random.randn(n), method=\"COBYLA\")\n",
    "print(\"Runtime:\", (time.time() - start) // 60, \"minutes.\")"
   ]
  },
  {
   "cell_type": "code",
   "execution_count": null,
   "metadata": {},
   "outputs": [],
   "source": [
    "energy([pi / 2, pi / 2, pi / 2], ham, circ, creg, lattice)"
   ]
  },
  {
   "cell_type": "markdown",
   "metadata": {},
   "source": [
    "### <p style=\"text-align: center;\"> Compare the Quantum and Classical Solutions </p>"
   ]
  },
  {
   "cell_type": "code",
   "execution_count": null,
   "metadata": {},
   "outputs": [],
   "source": [
    "print(\"Optimal angles:\", res.x)"
   ]
  },
  {
   "cell_type": "code",
   "execution_count": null,
   "metadata": {},
   "outputs": [],
   "source": [
    "\"\"\"Define function for taking (circuit, optimal angles) --> wavefunction.\"\"\"\n",
    "def qsolution(ansatz, opt_angles):\n",
    "    \"\"\"Returns the wavefunction of the ansatz at the optimal angles.\"\"\"\n",
    "    prog = Program()\n",
    "    memory_map = {\"theta\": opt_angles}\n",
    "    for name, arr in memory_map.items():\n",
    "        for index, value in enumerate(arr):\n",
    "            prog += gates.MOVE(gates.MemoryReference(name, offset=index), value)\n",
    "\n",
    "    ansatz = prog + ansatz\n",
    "    soln = pyquil.quil.percolate_declares(ansatz)\n",
    "    \n",
    "    wfsim = pyquil.api.WavefunctionSimulator()\n",
    "    return wfsim.wavefunction(soln).amplitudes"
   ]
  },
  {
   "cell_type": "code",
   "execution_count": null,
   "metadata": {
    "scrolled": true
   },
   "outputs": [],
   "source": [
    "qxvec = qsolution(circ, res.x)\n",
    "print(qxvec)"
   ]
  },
  {
   "cell_type": "code",
   "execution_count": null,
   "metadata": {},
   "outputs": [],
   "source": [
    "\"\"\"Compare to classical solution.\"\"\"\n",
    "# Get the classical solution\n",
    "Amat = matrix(Acoeffs, Aterms)\n",
    "bvec = vector(Bcoeffs, Bterms)\n",
    "xvec = np.linalg.solve(Amat, bvec)\n",
    "xvec /= np.linalg.norm(xvec)\n",
    "\n",
    "# Compute the fidelity\n",
    "fidelity = abs(np.dot(qxvec.conj(), xvec))**2\n",
    "print(r\"| < xquantum | xclassical > |^2 =\", round(fidelity, 2))"
   ]
  },
  {
   "cell_type": "markdown",
   "metadata": {},
   "source": [
    "**SAVE THIS CELL!**"
   ]
  },
  {
   "cell_type": "code",
   "execution_count": null,
   "metadata": {},
   "outputs": [],
   "source": [
    "\"\"\"SAVE THIS CELL!\n",
    "\n",
    "Optimal angles for Ry product ansatz. Energy of effective Hamiltonian is near 0.001 here.\n",
    "\"\"\"\n",
    "LS1opt_angles = [1.60380032, 1.88421818, 1.61131353, 1.51679728, 1.44425814]"
   ]
  },
  {
   "cell_type": "code",
   "execution_count": null,
   "metadata": {},
   "outputs": [],
   "source": [
    "def yansatzCZ(computer):\n",
    "    \"\"\"Returns a Ry ansatz with some entanglement.\"\"\"\n",
    "    # Grab the qubits\n",
    "    qubits = tuple(computer.qubits())\n",
    "    n = len(qubits)\n",
    "    \n",
    "    # Get a circuit and classical memory register\n",
    "    circ = Program()\n",
    "    creg = circ.declare(\"ro\", memory_type=\"BIT\", memory_size=n)\n",
    "\n",
    "    # Define parameters for the ansatz\n",
    "    angles = circ.declare(\"theta\", memory_type=\"REAL\", memory_size=n)\n",
    "\n",
    "    # Add the ansatz\n",
    "    circ += [gates.RY(angles[ii], qubits[ii]) for ii in range(n)]\n",
    "    circ += [gates.CZ(qubits[ii], qubits[ii + 1]) for ii in range(n - 1)]\n",
    "    \n",
    "    return circ, creg"
   ]
  },
  {
   "cell_type": "markdown",
   "metadata": {},
   "source": [
    "# <p style=\"text-align: center;\"> Linear System 2 </p>"
   ]
  },
  {
   "cell_type": "markdown",
   "metadata": {},
   "source": [
    "The second linear system we consider is formed from the Ising model.\n",
    "\n",
    "\\begin{equation}\n",
    "    A_2 := \\frac{1}{\\zeta} \\left(\\eta I + \\sum_{j=1}^{n} X_j + J \\sum_{j=1}^{n-1}Z_jZ_{j+1} \\right)\n",
    "\\end{equation}"
   ]
  },
  {
   "cell_type": "code",
   "execution_count": null,
   "metadata": {},
   "outputs": [],
   "source": [
    "def get_Acoeffs_Aterms_LS2(n: int, zeta: float, eta: float, J: float) -> List[Tuple[complex, str]]:\n",
    "    \"\"\"Returns linear system 2 expressed as weighted Pauli sum.\"\"\"\n",
    "    if n < 0:\n",
    "        raise ValueError(\"Number of qubits must be >= 1.\")\n",
    "    # Add the identity\n",
    "    Acoeffs = [eta / zeta]\n",
    "    Aterms = [\"I\" * n]\n",
    "    \n",
    "    # Add the X terms\n",
    "    Acoeffs += [1 / zeta] * n\n",
    "    xbase = \"X\" + \"I\" * (n - 1)\n",
    "    for ii in range(n, 0, -1):\n",
    "        Aterms.append(xbase[ii:] + xbase[:ii])\n",
    "        \n",
    "    # Add the ZZ terms\n",
    "    Acoeffs += [J / zeta] * (n - 1)\n",
    "    zzbase = \"ZZ\" + \"I\" * (n - 2)\n",
    "    for ii in range(n, 1, -1):\n",
    "        Aterms.append(zzbase[ii:] + zzbase[:ii])\n",
    "    \n",
    "    return Acoeffs, Aterms"
   ]
  },
  {
   "cell_type": "code",
   "execution_count": null,
   "metadata": {},
   "outputs": [],
   "source": [
    "\"\"\"Unit tests for getting LS2.\"\"\"\n",
    "Acoeffs, Aterms = get_Acoeffs_Aterms_LS2(4, 1, 1, 0.1)\n",
    "assert Acoeffs == [1.0, 1.0, 1.0, 1.0, 1.0, 0.1, 0.1, 0.1]\n",
    "assert Aterms == ['IIII', 'XIII', 'IXII', 'IIXI', 'IIIX', 'ZZII', 'IZZI', 'IIZZ']"
   ]
  },
  {
   "cell_type": "code",
   "execution_count": null,
   "metadata": {
    "scrolled": true
   },
   "outputs": [],
   "source": [
    "\"\"\"Terms in effective Hamiltonian for second linear system.\"\"\"\n",
    "# Number of qubits\n",
    "n = 5\n",
    "\n",
    "# Constants\n",
    "zeta = 1.0\n",
    "J = 0.1\n",
    "eta = 1.0\n",
    "\n",
    "# |b> = H|0>\n",
    "Bcoeffs = [1 / 2**(n / 2)] * 2**n\n",
    "paulis = [[\"X\", \"Z\"]] * n\n",
    "prods = list(product(*paulis))\n",
    "Bterms = [\"\".join(p) for p in prods]\n",
    "\n",
    "# Bcoeffs = [1 / 2**(1 / 2)] * 2\n",
    "# Bterms = [\"IXIII\", \"XIXII\"]\n",
    "\n",
    "# Linear system in weighted Paulis\n",
    "Acoeffs, Aterms = get_Acoeffs_Aterms_LS2(n, zeta, eta, J)\n",
    "\n",
    "ham2 = effective_hamiltonian(Acoeffs, Aterms, Bcoeffs, Bterms)\n",
    "\n",
    "print(\"Number of terms:\", len(ham2))\n",
    "print(*ham2, sep=\"\\n\")"
   ]
  },
  {
   "cell_type": "code",
   "execution_count": null,
   "metadata": {},
   "outputs": [],
   "source": [
    "\"\"\"View matrix of linear system we are solving.\"\"\"\n",
    "print(matrix_of_hamiltonian(ham2))"
   ]
  },
  {
   "cell_type": "code",
   "execution_count": null,
   "metadata": {},
   "outputs": [],
   "source": [
    "\"\"\"Parameters/constants.\"\"\"\n",
    "# Computer to run on\n",
    "qcomputer = \"Aspen-7-5Q-B\"  # Five qubit lattice for first linear system\n",
    "# qcomputer = \"Aspen-7-3Q-B\"  # Three qubit lattice for testing optimizer\n",
    "lattice3q = get_qc(qcomputer, as_qvm=True)  # Change to as_qvm=False to run on QC. Must have reservation."
   ]
  },
  {
   "cell_type": "code",
   "execution_count": null,
   "metadata": {},
   "outputs": [],
   "source": [
    "\"\"\"Get an ansatz.\"\"\"\n",
    "circ, creg = yansatz(lattice3q)\n",
    "print(circ)"
   ]
  },
  {
   "cell_type": "code",
   "execution_count": null,
   "metadata": {},
   "outputs": [],
   "source": [
    "\"\"\"Cost function for linear system 2.\"\"\"\n",
    "def costLS2(angles):\n",
    "    val = energy(angles, ham2, circ, lattice3q, shots=10000)\n",
    "    print(\"Current angles:\", angles)\n",
    "    print(\"Current energy:\", val)\n",
    "    return val"
   ]
  },
  {
   "cell_type": "code",
   "execution_count": null,
   "metadata": {},
   "outputs": [],
   "source": [
    "\"\"\"Do the optimization.\"\"\"\n",
    "start = time.time()\n",
    "res = minimize(costLS2, x0=np.random.randn(n), method=\"COBYLA\")\n",
    "print(\"Runtime:\", (time.time() - start) // 60, \"minutes.\")"
   ]
  },
  {
   "cell_type": "code",
   "execution_count": null,
   "metadata": {},
   "outputs": [],
   "source": [
    "print(\"Optimal angles:\", res.x)"
   ]
  },
  {
   "cell_type": "code",
   "execution_count": null,
   "metadata": {},
   "outputs": [],
   "source": [
    "qxvec = qsolution(circ, res.x)\n",
    "print(qxvec)"
   ]
  },
  {
   "cell_type": "code",
   "execution_count": null,
   "metadata": {},
   "outputs": [],
   "source": [
    "\"\"\"Compare to classical solution.\"\"\"\n",
    "# Get the classical solution\n",
    "Amat = matrix(Acoeffs, Aterms)\n",
    "bvec = vector(Bcoeffs, Bterms)\n",
    "xvec = np.linalg.solve(Amat, bvec)\n",
    "xvec /= np.linalg.norm(xvec)\n",
    "\n",
    "# Compute the fidelity\n",
    "fidelity = abs(np.dot(qxvec.conj(), xvec))**2\n",
    "print(r\"| < xquantum | xclassical > |^2 =\", round(fidelity, 2))"
   ]
  },
  {
   "cell_type": "code",
   "execution_count": null,
   "metadata": {},
   "outputs": [],
   "source": [
    "xvec"
   ]
  },
  {
   "cell_type": "code",
   "execution_count": null,
   "metadata": {},
   "outputs": [],
   "source": []
  },
  {
   "cell_type": "code",
   "execution_count": null,
   "metadata": {},
   "outputs": [],
   "source": []
  },
  {
   "cell_type": "markdown",
   "metadata": {},
   "source": [
    "## Running on a Quantum Computer"
   ]
  },
  {
   "cell_type": "markdown",
   "metadata": {},
   "source": [
    "This notebook was made into a script that could be run on Rigetti's Quantum Cloud Services. In particular, we used a three qubit lattice \"Aspen-4-3Q-A,\" the fidelity/noise characterization of which can be found online. In the cell below, we load energy vs iteration data that was computed using our VQE algorithm on this lattice. We then plot it against the simulator result to compare the difference."
   ]
  },
  {
   "cell_type": "code",
   "execution_count": null,
   "metadata": {
    "scrolled": false
   },
   "outputs": [],
   "source": [
    "\"\"\"Plot the QPU energy vs iteration data obtained by running on Rigetti QCS.\"\"\"\n",
    "# Read in the files\n",
    "qpu_energy1 = np.loadtxt(\"qpu-energy-iteration1.txt\")\n",
    "qpu_energy2 = np.loadtxt(\"qpu-energy-iteration2.txt\")\n",
    "\n",
    "# Do the plotting\n",
    "plt.figure(figsize=(10, 5))\n",
    "plt.plot(energies, \"--o\", linewidth=3, label=\"Simulator\")\n",
    "plt.xlabel(\"Iteration\", fontsize=14, fontweight=\"bold\")\n",
    "plt.ylabel(\"Energy\", fontsize=14, fontweight=\"bold\")\n",
    "\n",
    "plt.plot(qpu_energy1, \"--o\", linewidth=3, label=\"Raw QPU Run 1\")\n",
    "plt.plot(qpu_energy2, \"--o\", linewidth=3, label=\"Raw QPU Run 2\")\n",
    "\n",
    "# Put a line at the actual ground state energy (see below)\n",
    "GSENERGY = 0.53232723\n",
    "plt.plot(GSENERGY * np.ones_like(energies), linewidth=3, label=\"Analytic Energy\")\n",
    "\n",
    "plt.grid()\n",
    "plt.legend();"
   ]
  },
  {
   "cell_type": "markdown",
   "metadata": {},
   "source": [
    "## Error Mitigation"
   ]
  },
  {
   "cell_type": "markdown",
   "metadata": {},
   "source": [
    "The QPU data above has a significant vertical shift from the simulator data, but generally the same \"shape.\" This shift is present because of decoherence, gate application errors, measurement errors, and other noise in the system. It can be accounted for by running a set of \"benchmark circuits\" on the QPU prior to running the actual algorithm. These benchmark circuits are simple circuits, such as NOT and MEASURE, for which one knows the actual output. The vertical shift in this benchmark circuit can then be tested for and subtracted from the final computed energies to get more accurate results. Other methods are also possible, and this is an area of active research.\n",
    "\n",
    "Here, we employ a similar idea, but instead of running a benchmark circuit, we just subtract off the difference of the initial energies on the QPU and on the simulator. The cell below implements this and plots the result again."
   ]
  },
  {
   "cell_type": "code",
   "execution_count": null,
   "metadata": {
    "scrolled": true
   },
   "outputs": [],
   "source": [
    "\"\"\"Plot the error mitigated QPU energy vs iteration data obtained by running on Rigetti QCS.\"\"\"\n",
    "# Constant shift amount. In practice, this would be obtained by running a \"benchmark circuit.\"\n",
    "# Here, we just set the value based on the above curves\n",
    "shift = 0.3\n",
    "\n",
    "# Read in the files\n",
    "qpu_energy1 = np.loadtxt(\"qpu-energy-iteration1.txt\")\n",
    "qpu_energy2 = np.loadtxt(\"qpu-energy-iteration2.txt\")\n",
    "\n",
    "# Subtract off the shift\n",
    "qpu_energy1 -= shift\n",
    "qpu_energy2 -= shift\n",
    "\n",
    "# Do the plotting\n",
    "plt.figure(figsize=(10, 5))\n",
    "plt.plot(energies, \"--o\", linewidth=3, label=\"Simulator\")\n",
    "plt.xlabel(\"Iteration\", fontsize=14, fontweight=\"bold\")\n",
    "plt.ylabel(\"Energy\", fontsize=14, fontweight=\"bold\")\n",
    "\n",
    "plt.plot(qpu_energy1, \"--o\", linewidth=3, label=\"Error Mitigated QPU Run 1\")\n",
    "plt.plot(qpu_energy2, \"--o\", linewidth=3, label=\"Error Mitigated QPU Run 2\")\n",
    "\n",
    "# Put a line at the actual ground state energy (see below)\n",
    "GSENERGY = 0.53232723\n",
    "plt.plot(GSENERGY * np.ones_like(energies), linewidth=3, label=\"Analytic Energy\")\n",
    "\n",
    "plt.grid()\n",
    "plt.legend();"
   ]
  },
  {
   "cell_type": "markdown",
   "metadata": {},
   "source": [
    "## Conclusions"
   ]
  },
  {
   "cell_type": "markdown",
   "metadata": {},
   "source": []
  },
  {
   "cell_type": "markdown",
   "metadata": {},
   "source": [
    "## Acknowledgements"
   ]
  },
  {
   "cell_type": "markdown",
   "metadata": {},
   "source": [
    "Thank coauthors and Rigetti."
   ]
  },
  {
   "cell_type": "markdown",
   "metadata": {},
   "source": [
    "## References"
   ]
  },
  {
   "cell_type": "markdown",
   "metadata": {},
   "source": [
    "[1] VQLS\n",
    "\n",
    "[2] HHL\n",
    "\n",
    "[3] QLSP via QSVE\n",
    "\n",
    "[4] Yigit's adiabatic algorithm\n",
    "\n",
    "[5] VQE Original paper\n",
    "\n",
    "[6] Theory of VQE\n",
    "\n",
    "[7] Ryan LaRose et al., [Implementing variational quantum algorithms](https://github.com/rmlarose/qcbq/blob/master/tutorials/04qaoa/qcbq_tutorial4b_implement_qaoa-INSTRUCTOR.ipynb), MSU-IBM Quantum computing bootcamp with Qiskit, 2019. "
   ]
  }
 ],
 "metadata": {
  "kernelspec": {
   "display_name": "Python 3",
   "language": "python",
   "name": "python3"
  },
  "language_info": {
   "codemirror_mode": {
    "name": "ipython",
    "version": 3
   },
   "file_extension": ".py",
   "mimetype": "text/x-python",
   "name": "python",
   "nbconvert_exporter": "python",
   "pygments_lexer": "ipython3",
   "version": "3.6.8"
  }
 },
 "nbformat": 4,
 "nbformat_minor": 2
}
