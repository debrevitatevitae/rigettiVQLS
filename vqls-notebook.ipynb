{
 "cells": [
  {
   "cell_type": "markdown",
   "metadata": {},
   "source": [
    "# <p style=\"text-align: center;\"> Variational Quantum Linear Solver on Rigetti QCS </p>"
   ]
  },
  {
   "cell_type": "markdown",
   "metadata": {},
   "source": [
    "<p style=\"text-align: center;\"> Ryan LaRose, Department of Computational Mathematics, Science, and Engineering & Department of Physics and Astronomy, Michigan State University. </p>"
   ]
  },
  {
   "cell_type": "markdown",
   "metadata": {},
   "source": [
    "<img src=\"main.png\" alt=\"Overview of VQLS\">"
   ]
  },
  {
   "cell_type": "markdown",
   "metadata": {},
   "source": [
    "### <p style=\"text-align: center;\"> Abstract </p>"
   ]
  },
  {
   "cell_type": "markdown",
   "metadata": {},
   "source": [
    "<p style=\"text-align: justify;\"> The variational quantum linear solver (VQLS) [1] is an algorithm for solving linear systems on near-term quantum computers. While VQLS does not offer performance guaruntees like other quantum linear systems algorithms [2-3], the ability to run on near-term computers makes it an interesting problem-specific benchmark. In this notebook, we provide a brief tutorial of VQLS and show results of running VQLS on Rigetti QCS for example linear systems. </p>"
   ]
  },
  {
   "cell_type": "markdown",
   "metadata": {},
   "source": [
    "## <p style=\"text-align: center;\"> Notebook Setup </p>"
   ]
  },
  {
   "cell_type": "markdown",
   "metadata": {},
   "source": [
    "<p style=\"text-align: justify;\"> We use pyQuil to write the VQLS algorithm and send job submissions to Rigetti QCS. In the notebook, we use the Rigetti QVM for tutorial purposes. When running on the device, the code written in the notebook is converted to a script and executed on the QPU. </p>"
   ]
  },
  {
   "cell_type": "code",
   "execution_count": 1,
   "metadata": {},
   "outputs": [],
   "source": [
    "\"\"\"Imports.\"\"\"\n",
    "from itertools import product\n",
    "from math import pi\n",
    "import time\n",
    "\n",
    "import matplotlib.pyplot as plt\n",
    "import networkx as nx\n",
    "import numpy as np\n",
    "from scipy.optimize import (dual_annealing, fmin, fmin_powell, fmin_cobyla, minimize)\n",
    "\n",
    "import pyquil\n",
    "from pyquil import Program, get_qc\n",
    "import pyquil.gates as gates\n",
    "\n",
    "import vqls"
   ]
  },
  {
   "cell_type": "code",
   "execution_count": 2,
   "metadata": {},
   "outputs": [],
   "source": [
    "\"\"\"Constants and other setup.\"\"\"\n",
    "np.set_printoptions(precision=3)\n",
    "%matplotlib inline"
   ]
  },
  {
   "cell_type": "markdown",
   "metadata": {},
   "source": [
    "# <p style=\"text-align: center;\"> The VQLS Algorithm </p>"
   ]
  },
  {
   "cell_type": "markdown",
   "metadata": {},
   "source": [
    "A linear system $A \\mathbf{x} = \\mathbf{b}$ is defined by a matrix $A \\in \\mathbb{C}^{N \\times N}$ and vector $\\mathbf{b} \\in \\mathbb{C}^{N}$. Given $A$ and $\\mathbf{b}$ as input, the goal is to output $\\mathbf{x} \\in \\mathbb{C}^{N}$, or an approximate solution $\\mathbf{\\bar{x}}$ where $|| \\mathbf{\\bar{x}} - \\mathbf{x} || \\le \\delta$. "
   ]
  },
  {
   "cell_type": "markdown",
   "metadata": {},
   "source": [
    "### <p style=\"text-align: center;\"> Problem Setup </p>"
   ]
  },
  {
   "cell_type": "markdown",
   "metadata": {},
   "source": [
    "<p style=\"text-align: justify;\"> How can we solve linear systems of equations with a (near-term) quantum computer? Without loss of generality, we can express the matrix $A$ is a linear combination of Paulis</p>\n",
    "\n",
    "\\begin{equation}\n",
    "    A = \\sum_{l = 1}^{L} a_l A_l .\n",
    "\\end{equation}\n",
    "\n",
    "<p style=\"text-align: justify;\"> The vector $|\\mathbf{b}\\rangle$ is assumed to have some unitary $B$ which prepares it from the ground state, i.e. $B|0\\rangle = |\\mathbf{b}\\rangle$. We can also take $B = \\sum_{m = 1}^{M} b_m B_m$ as a linear combination of Paulis. </p>\n",
    "\n",
    "We want to prepare a state\n",
    "\n",
    "\\begin{equation}\n",
    "    |\\mathbf{\\theta}\\rangle := V(\\mathbf{\\theta}) |0\\rangle \n",
    "\\end{equation}\n",
    "\n",
    "<p style=\"text-align: justify;\"> which has high fidelity $| \\langle \\theta | \\mathbf{x} \\rangle |^2$ with the solution $|x\\rangle$ of the linear system $A |\\mathbf{x}\\rangle = |\\mathbf{b}\\rangle $. Equivalenlty, we want a state $|\\theta\\rangle$ such that $A |\\theta\\rangle$ is close to $|\\mathbf{b}\\rangle$. By maximizing the fidelity $|\\langle \\mathbf{b} | A |\\theta\\rangle|^2$ where\n",
    "\n",
    "\\begin{equation}\n",
    "    \\langle \\mathbf{b} | A |\\theta\\rangle = \\langle 0 | B^\\dagger A V(\\theta) |0\\rangle = \\sum_{l = 1}^{L} c_l \\langle 0 | B^\\dagger A_l V(\\theta) |0\\rangle .\n",
    "\\end{equation}\n",
    "\n",
    "one can obtain an approximate solution $|\\theta_\\text{opt}\\rangle = V(\\theta_\\text{opt}) |0\\rangle$ to the linear system. \n",
    "\n",
    "One way to compute the fidelity is via the Hadamard Test or extensions of the Hadamard Test [1]. Another way is described below."
   ]
  },
  {
   "cell_type": "markdown",
   "metadata": {},
   "source": [
    "### <p style=\"text-align: center;\"> The Effective Hamiltonian Approach </p>"
   ]
  },
  {
   "cell_type": "markdown",
   "metadata": {},
   "source": [
    "An interesting connection to other linear systems work [4] and variational algorithms literature [5] is to note that the above prescription is equivalent to minimizing the energy of an effective Hamiltonian\n",
    "\n",
    "\\begin{equation}\n",
    "    H_{A, \\mathbf{b}} \\equiv H := A^\\dagger ( I - |\\mathbf{b}\\rangle \\langle \\mathbf{b} | ) A\n",
    "\\end{equation}\n",
    "\n",
    "<p style=\"text-align: justify;\">\n",
    "This can be seen by noting that $H$ is positive semidefinite and $H |\\mathbf{x}\\rangle = 0$. Thus, by minimizing $\\langle \\theta | H |\\theta \\rangle$, we can get an approximate solution to the linear system. A key advantage of this approach is the ability to compute expectation values in a hardware efficient manner. (That is, not using controlled gates required by the Hadamard test but instead using classical post-processing [5-7].) We use this <b>effective Hamiltonian approach</b> in our simulations below.\n",
    "</p>\n",
    "\n",
    "Noting that $H = A^\\dagger A - A^\\dagger P_{\\mathbf{b}} A$ where $P_{\\mathbf{b}} := |\\mathbf{b}\\rangle \\langle \\mathbf{b} |$ is the projector onto the $|\\mathbf{b}\\rangle$ state, we have two terms to evaluate. For the first, one can show that\n",
    "\n",
    "\\begin{equation}\n",
    "    A^\\dagger A = \\sum_{l = 1}^{L} |a_l|^2 I + 2 \\sum_{1 = l < k}^{L - 1} \\text{Re} \\, [a_l^* a_k ] A_l A_k .\n",
    "\\end{equation}\n",
    "\n",
    "The expectation of the first summation can be computed classically, while the second requires $L (L - 1) / 2 = O(L^2)$ circuit evaluations. \n",
    "\n",
    "For the second term in the Hamiltonian $H$, one can see that\n",
    "\n",
    "\\begin{equation}\n",
    "    A^\\dagger P_{\\mathbf{b}} A = \\sum_{k = 1}^{L} \\sum_{l = 1}^{L} a_k^* a_l A_k P_\\mathbf{b} A_l .\n",
    "\\end{equation}\n",
    "\n",
    "Assuming $B = \\sum_{m = 1}^{M} b_m B_m$, the projector $P_\\mathbf{b} = B|0\\rangle \\langle 0 | B^\\dagger$ can be expanded as a linear combination of unitaries as well. Note that $|0\\rangle\\langle0| = (I + Z) / 2$. In general, there are $N M^2 L^2$ weighted Pauli operators in this term ($N = 2^n$ where $n$ is the number of qubits).  \n",
    "\n",
    "<p style=\"text-align: justify;\">\n",
    "As mentioned, the <font color=\"green\"><b>advantage</b></font> of this approach is the short-depth circuits for cost evaluation. The <font color=\"red\"><b>disadvantage</b></font> of this approach is that it can lead to many terms in the Pauli expansion of $H_{A, \\mathbf{b}}$. An interesting observation is the \"physicality\" of this effective Hamiltonian -- namely, physical Hamiltonians usually have (or are assumed to have) poly($n$) terms, while this Hamiltonian has $O(N)$ terms in the worst case. We remark that simplifications which reduce the number of terms in the effective Hamiltonian $H_{A, \\textbf{b}}$ are usually possible. Additionally, computing $\\langle H \\rangle$ by exploiting simulataneous measurements of observables can mitigate the large number of terms. Finally, we remark that coefficients in the projector $|0\\rangle \\langle 0|$ on $n$ qubits are equal to $1 / 2^n$, and it can be a reasonable approximation to skip terms with small coefficients. </p>"
   ]
  },
  {
   "cell_type": "markdown",
   "metadata": {},
   "source": [
    "# <p style=\"text-align: center;\"> Linear System 1 </p>"
   ]
  },
  {
   "cell_type": "markdown",
   "metadata": {},
   "source": [
    "<p style=\"text-align: justify;\"> The first linear system we consider is an example from the VQLS paper. Our motivation for this is to compare results from the paper (which used older Rigetti computers) to results we get on the new computers. The linear system is a three- to five-qubit example given by </p>\n",
    "\n",
    "\\begin{equation}\n",
    "    A_1 = I + 0.2 X_1 + 0.2 X_1 Z_2 .\n",
    "\\end{equation}\n",
    "\n",
    "and $\\mathbf{b}_1 = H_1 H_2 H_4 H_4 |0\\rangle^{\\otimes n}$. Here, $I, X, Y$ and $Z$ are the usual Pauli operators\n",
    "\n",
    "\\begin{equation}\n",
    "    I := \\left[ \\begin{matrix}\n",
    "    1 & 0 \\\\\n",
    "    0 & 1 \\\\\n",
    "    \\end{matrix} \\right], \\qquad \n",
    "    X := \\left[ \\begin{matrix}\n",
    "    0 & 1 \\\\\n",
    "    1 & 0 \\\\\n",
    "    \\end{matrix} \\right], \\qquad \n",
    "    Y := \\left[ \\begin{matrix}\n",
    "    0 & -i \\\\\n",
    "    i & 0 \\\\\n",
    "    \\end{matrix} \\right], \\qquad \n",
    "    Z := \\left[ \\begin{matrix}\n",
    "    1 & 0 \\\\\n",
    "    0 & -1 \\\\\n",
    "    \\end{matrix} \\right]\n",
    "\\end{equation}\n",
    "\n",
    "and subscripts indicate which qubits the Paulis act on. For example, $X_1$ means $X$ on the first qubit, i.e. $XII$ on three qubits or $X I I I I$ on five qubits.\n",
    "\n",
    "\n",
    "For concreteness, we can reduce to three qubits and view the $8 \\times 8$ matrix of this linear system. (Of course this works for any number of qubits, but we quickly run out of room on the screen!)"
   ]
  },
  {
   "cell_type": "code",
   "execution_count": 3,
   "metadata": {
    "scrolled": true
   },
   "outputs": [
    {
     "name": "stdout",
     "output_type": "stream",
     "text": [
      "The matrix of the linear system is:\n",
      "[[1.  0.  0.  0.  0.4 0.  0.  0. ]\n",
      " [0.  1.  0.  0.  0.  0.4 0.  0. ]\n",
      " [0.  0.  1.  0.  0.  0.  0.  0. ]\n",
      " [0.  0.  0.  1.  0.  0.  0.  0. ]\n",
      " [0.4 0.  0.  0.  1.  0.  0.  0. ]\n",
      " [0.  0.4 0.  0.  0.  1.  0.  0. ]\n",
      " [0.  0.  0.  0.  0.  0.  1.  0. ]\n",
      " [0.  0.  0.  0.  0.  0.  0.  1. ]]\n"
     ]
    }
   ],
   "source": [
    "\"\"\"View the matrix of a linear system.\"\"\"\n",
    "# Define the matrix of the linear system as weighted Paulis\n",
    "Acoeffs = [1., 0.2, 0.2]\n",
    "Aterms = [\"III\", \"XII\", \"XZI\"]\n",
    "\n",
    "# Display the matrix\n",
    "print(\"The matrix of the linear system is:\")\n",
    "print(np.real(vqls.matrix(Acoeffs, Aterms)))"
   ]
  },
  {
   "cell_type": "markdown",
   "metadata": {},
   "source": [
    "<font color=\"blue\"><b>Note:</b></font> The matrix is quite sparse. This is expected for linear systems with only a few weighted Paulis, as Pauli strings are sparse matrices. \n",
    "\n",
    "Using the identity $H = (I + Z) / \\sqrt{2}$, we can expand the $B$ unitary as \n",
    "\n",
    "\\begin{align}\n",
    "    B &= \\frac{1}{2^2} (I + Z) \\otimes (I + Z) \\otimes I \\otimes (I + Z) \\otimes (I + Z) \\\\\n",
    "      &= \\frac{1}{2^2} \\left[ IIIII + IIIIZ + IIIZI + IIIZZ + IZIII + IZIIZ + IZIZI + IZIZZ + \\cdots \\right]\n",
    "\\end{align}"
   ]
  },
  {
   "cell_type": "markdown",
   "metadata": {},
   "source": [
    "## <p style=\"text-align: center;\"> Three Qubit Tutorial </p>"
   ]
  },
  {
   "cell_type": "markdown",
   "metadata": {},
   "source": [
    "Below we consider the three-qubit verstion of the linear system above. First, we define the linear system in terms of $A$ and $B$, then compute the effective Hamiltonian of the linear system. "
   ]
  },
  {
   "cell_type": "code",
   "execution_count": 4,
   "metadata": {
    "scrolled": true
   },
   "outputs": [
    {
     "name": "stdout",
     "output_type": "stream",
     "text": [
      "Number of terms: 12\n",
      "H = \n",
      "(0.895+0j) \t* \tIII +\n",
      "(0.215+0j) \t* \tXII +\n",
      "(0.34+0j) \t* \tXZI +\n",
      "(0.02+0j) \t* \tIZI +\n",
      "(-0.185+0j) \t* \tIIX +\n",
      "(-0.175+0j) \t* \tIXI +\n",
      "(-0.06+0j) \t* \tIZX +\n",
      "(-0.175+0j) \t* \tIXX +\n",
      "(-0.185+0j) \t* \tXIX +\n",
      "(-0.175+0j) \t* \tXXI +\n",
      "(-0.06+0j) \t* \tXZX +\n",
      "(-0.175+0j) \t* \tXXX \n"
     ]
    }
   ],
   "source": [
    "\"\"\"Terms in effective Hamiltonian for first linear system.\"\"\"\n",
    "# Number of qubits\n",
    "n = 3\n",
    "\n",
    "# Define the B matrix of the linear system\n",
    "Bcoeffs = [1 / 2**(n / 2)] * 2**n\n",
    "paulis = [[\"X\", \"Z\"]] * n\n",
    "prods = list(product(*paulis))\n",
    "Bterms = [\"\".join(p) for p in prods]\n",
    "\n",
    "# Define the A matrix of the linear system\n",
    "Acoeffs = [1, 0.2, 0.2]\n",
    "Aterms = [\"III\", \"XII\", \"XZI\"]\n",
    "\n",
    "# Get the effective Hamiltonian\n",
    "ham = vqls.effective_hamiltonian(Acoeffs, Aterms, Bcoeffs, Bterms)\n",
    "\n",
    "# Display the effective Hamiltonian\n",
    "nterms = len(ham)\n",
    "print(\"Number of terms:\", nterms)\n",
    "print(\"H = \")\n",
    "for ii in range(nterms):\n",
    "    print(f\"{round(ham[ii][0], 3)} \\t* \\t{ham[ii][1]}\", (lambda ii: \"+\" if ii < nterms - 1 else \"\")(ii))"
   ]
  },
  {
   "cell_type": "markdown",
   "metadata": {},
   "source": [
    "To evaluate these terms with a quantum computer, we first need a quantum computer! Below we select an appropriate `Aspen` lattice."
   ]
  },
  {
   "cell_type": "code",
   "execution_count": 5,
   "metadata": {},
   "outputs": [],
   "source": [
    "\"\"\"Get a quantum computer to run on.\"\"\"\n",
    "qcomputer = f\"Aspen-7-{n}Q-B\"  # Three qubit lattice for testing optimizer\n",
    "lattice = get_qc(qcomputer, as_qvm=True)  # Change to as_qvm=False to run on QC. Must have reservation."
   ]
  },
  {
   "cell_type": "markdown",
   "metadata": {},
   "source": [
    "We can visualize the connectivity of this lattice by drawing the qubit topology. "
   ]
  },
  {
   "cell_type": "code",
   "execution_count": 6,
   "metadata": {
    "scrolled": true
   },
   "outputs": [
    {
     "data": {
      "image/png": "[encoded data removed]",
      "text/plain": [
       "<Figure size 432x288 with 1 Axes>"
      ]
     },
     "metadata": {},
     "output_type": "display_data"
    }
   ],
   "source": [
    "\"\"\"Visualize the qubit connectivity.\"\"\"\n",
    "graph = lattice.qubit_topology()\n",
    "nx.draw(graph)"
   ]
  },
  {
   "cell_type": "markdown",
   "metadata": {},
   "source": [
    "### <p style=\"text-align: center;\"> Variational Ansatz </p>"
   ]
  },
  {
   "cell_type": "markdown",
   "metadata": {},
   "source": [
    "The next and final ingredient we need to compute $\\langle \\theta | H | \\theta \\rangle$ is an ansatz state $|\\theta\\rangle$. We take this to be a product of $Y$-rotations on each qubit in the computer, obtained via `vqls.yansatz`."
   ]
  },
  {
   "cell_type": "code",
   "execution_count": 7,
   "metadata": {
    "scrolled": false
   },
   "outputs": [
    {
     "name": "stdout",
     "output_type": "stream",
     "text": [
      "DECLARE ro BIT[3]\n",
      "DECLARE theta REAL[3]\n",
      "RY(theta[0]) 10\n",
      "RY(theta[1]) 11\n",
      "RY(theta[2]) 12\n",
      "\n"
     ]
    }
   ],
   "source": [
    "\"\"\"Get an ansatz and visualize it.\"\"\"\n",
    "circ, creg = vqls.yansatz(lattice)\n",
    "print(circ)"
   ]
  },
  {
   "cell_type": "markdown",
   "metadata": {},
   "source": [
    "As we see, the main circuit is simply $Y$-rotations on each qubit where the parameters `theta[0], theta[1], theta[2]` are independent.\n",
    "\n",
    "The following function defines the cost we want to minimize by varying the parameters in the ansatz. The cost is exactly the energy of the effective Hamiltonian $H_{A, \\mathbf{b}}$ computed via `vqls.energy`. "
   ]
  },
  {
   "cell_type": "code",
   "execution_count": 8,
   "metadata": {},
   "outputs": [],
   "source": [
    "\"\"\"Cost function for linear system 1.\"\"\"\n",
    "def costLS1(angles, verbose: bool = False):\n",
    "    val = vqls.energy(angles, ham, circ, creg, lattice, shots=10000)\n",
    "    if verbose:\n",
    "        print(\"Current angles:\", angles)\n",
    "        print(\"Current energy:\", val)\n",
    "    return val"
   ]
  },
  {
   "cell_type": "code",
   "execution_count": 9,
   "metadata": {},
   "outputs": [
    {
     "name": "stderr",
     "output_type": "stream",
     "text": [
      "/home/ryan/phd/rigettiVQLS/pyquil/lib/python3.6/site-packages/rpcq/_client.py:196: UserWarning: SIMPLE-WARNING: Chip specification contained fidelity 1.0d0 > 0.99999d0. Truncating to 0.99999d0.\n",
      "  warn(f\"{warning.kind}: {warning.body}\")\n"
     ]
    },
    {
     "name": "stdout",
     "output_type": "stream",
     "text": [
      "Current angles: [1.571 1.571 1.571]\n",
      "Current energy: 0.0428360000000014\n",
      "Current angles: [1.649 1.571 1.571]\n",
      "Current energy: 0.040632000000001306\n",
      "Current angles: [1.571 1.649 1.571]\n",
      "Current energy: 0.03146600000000144\n",
      "Current angles: [1.571 1.571 1.649]\n",
      "Current energy: 0.03639900000000157\n",
      "Current angles: [1.623 1.623 1.623]\n",
      "Current energy: 0.029096000000001454\n",
      "Current angles: [1.649 1.649 1.649]\n",
      "Current energy: 0.022103000000001705\n",
      "Current angles: [1.545 1.676 1.676]\n",
      "Current energy: 0.024159000000001485\n",
      "Current angles: [1.606 1.745 1.614]\n",
      "Current energy: 0.00969900000000129\n",
      "Current angles: [1.623 1.833 1.597]\n",
      "Current energy: 0.0064350000000012175\n",
      "Current angles: [1.641 1.789 1.71 ]\n",
      "Current energy: 0.006062000000001205\n",
      "Current angles: [1.676 1.859 1.78 ]\n",
      "Current energy: 0.02024100000000137\n",
      "Current angles: [1.731 1.838 1.629]\n",
      "Current energy: 0.008226000000001482\n",
      "Current angles: [1.68  1.991 1.642]\n",
      "Current energy: 0.008707000000001242\n",
      "Current angles: [1.673 1.905 1.644]\n",
      "Current energy: -0.00029899999999877247\n",
      "Current angles: [1.56  1.846 1.672]\n",
      "Current energy: 0.009909000000001555\n",
      "Current angles: [1.688 1.84  1.64 ]\n",
      "Current energy: 0.005181000000001157\n",
      "Current angles: [1.711 1.857 1.732]\n",
      "Current energy: 0.016271000000001312\n",
      "Current angles: [1.645 1.839 1.631]\n",
      "Current energy: 0.001597000000001375\n",
      "Current angles: [1.697 1.934 1.566]\n",
      "Current energy: 0.0050030000000014785\n",
      "Current angles: [1.655 1.945 1.587]\n",
      "Current energy: 0.0013300000000012746\n",
      "Current angles: [1.618 1.859 1.675]\n",
      "Current energy: 0.004107000000001609\n",
      "Current angles: [1.638 1.878 1.648]\n",
      "Current energy: 0.0025950000000014573\n",
      "Current angles: [1.677 1.915 1.593]\n",
      "Current energy: 0.0013250000000015472\n",
      "Current angles: [1.691 2.005 1.585]\n",
      "Current energy: 0.004084000000001309\n",
      "Current angles: [1.657 1.88  1.619]\n",
      "Current energy: 0.004833000000001364\n",
      "Current angles: [1.675 1.91  1.618]\n",
      "Current energy: 0.0006610000000014382\n",
      "Current angles: [1.664 1.925 1.615]\n",
      "Current energy: 0.0065370000000012085\n",
      "Current angles: [1.659 1.872 1.637]\n",
      "Current energy: 0.0015530000000013588\n",
      "Current angles: [1.674 1.867 1.651]\n",
      "Current energy: 0.00014900000000156455\n",
      "Current angles: [1.689 1.916 1.638]\n",
      "Current energy: 0.0004700000000011362\n",
      "Current angles: [1.682 1.882 1.67 ]\n",
      "Current energy: 0.0023440000000015115\n",
      "Current angles: [1.677 1.903 1.631]\n",
      "Current energy: 0.004457000000001182\n",
      "Current angles: [1.673 1.886 1.647]\n",
      "Current energy: 0.0045810000000013895\n",
      "Current angles: [1.681 1.911 1.641]\n",
      "Current energy: 0.003191000000001387\n",
      "Current angles: [1.674 1.908 1.631]\n",
      "Current energy: -0.0007449999999985246\n",
      "Current angles: [1.678 1.93  1.63 ]\n",
      "Current energy: 0.0071800000000014075\n",
      "Current angles: [1.674 1.897 1.643]\n",
      "Current energy: -0.002804999999998725\n",
      "Current angles: [1.667 1.896 1.637]\n",
      "Current energy: 0.004905000000001103\n",
      "Current angles: [1.677 1.907 1.64 ]\n",
      "Current energy: 0.0048340000000015315\n",
      "Current angles: [1.674 1.902 1.637]\n",
      "Current energy: 0.005376000000001435\n",
      "Current angles: [1.674 1.901 1.643]\n",
      "Current energy: 0.013811000000001322\n",
      "Current angles: [1.678 1.904 1.642]\n",
      "Current energy: 0.0075140000000014084\n",
      "Current angles: [1.677 1.901 1.638]\n",
      "Current energy: 0.005531000000001313\n",
      "Current angles: [1.673 1.896 1.636]\n",
      "Current energy: 0.0037260000000012006\n",
      "Current angles: [1.67  1.896 1.64 ]\n",
      "Current energy: 0.0022120000000011852\n",
      "Current angles: [1.671 1.891 1.642]\n",
      "Current energy: 0.0050050000000013695\n",
      "Current angles: [1.672 1.894 1.641]\n",
      "Current energy: 0.009312000000001208\n",
      "Current angles: [1.672 1.897 1.641]\n",
      "Current energy: -0.0025299999999988387\n",
      "Current angles: [1.674 1.897 1.64 ]\n",
      "Current energy: -0.0007669999999988519\n",
      "Current angles: [1.674 1.9   1.64 ]\n",
      "Current energy: 0.0009160000000012491\n",
      "Warning: Maximum number of function evaluations has been exceeded.\n",
      "Runtime: 2.0 minutes.\n"
     ]
    }
   ],
   "source": [
    "\"\"\"Optimization: Testing fmin functions from scipy.optimize.\"\"\"\n",
    "start = time.time()\n",
    "res = fmin(costLS1, x0=[pi / 2] * n, ftol=0.001, maxfun=50, args=(True,))\n",
    "print(\"Runtime:\", (time.time() - start) // 60, \"minutes.\")"
   ]
  },
  {
   "cell_type": "code",
   "execution_count": 10,
   "metadata": {
    "scrolled": false
   },
   "outputs": [
    {
     "name": "stdout",
     "output_type": "stream",
     "text": [
      "Current angles: [1.571 1.571 1.571]\n",
      "Current energy: 0.03405600000000136\n",
      "Current angles: [2.571 1.571 1.571]\n",
      "Current energy: 0.1842060000000011\n",
      "Current angles: [1.571 2.571 1.571]\n",
      "Current energy: 0.1622370000000007\n",
      "Current angles: [1.571 1.571 2.571]\n",
      "Current energy: 0.3747590000000006\n",
      "Current angles: [1.189 1.245 0.706]\n",
      "Current energy: 0.4168310000000009\n",
      "Current angles: [1.38  1.408 1.138]\n",
      "Current energy: 0.1592320000000013\n",
      "Current angles: [1.814 1.551 1.517]\n",
      "Current energy: 0.05416100000000165\n",
      "Current angles: [1.571 1.688 1.527]\n",
      "Current energy: 0.01445600000000119\n",
      "Current angles: [1.558 1.879 1.687]\n",
      "Current energy: 0.009288000000001323\n",
      "Current angles: [1.495 1.956 1.611]\n",
      "Current energy: -0.001386999999998667\n",
      "Current angles: [1.567 2.033 1.544]\n",
      "Current energy: 0.0082490000000012\n",
      "Current angles: [1.492 1.998 1.656]\n",
      "Current energy: 0.00754900000000136\n",
      "Current angles: [1.41  1.899 1.539]\n",
      "Current energy: 0.0059550000000010705\n",
      "Current angles: [1.459 1.993 1.646]\n",
      "Current energy: 0.008991000000001054\n",
      "Current angles: [1.482 1.937 1.589]\n",
      "Current energy: 0.0029860000000012377\n",
      "Current angles: [1.494 1.944 1.621]\n",
      "Current energy: 0.007144000000001566\n",
      "Current angles: [1.512 1.975 1.594]\n",
      "Current energy: 0.0026440000000013397\n",
      "Current angles: [1.483 1.966 1.612]\n",
      "Current energy: 0.006686000000001219\n",
      "Current angles: [1.502 1.958 1.607]\n",
      "Current energy: -0.002678999999998516\n",
      "Current angles: [1.507 1.953 1.61 ]\n",
      "Current energy: 0.007104000000001304\n",
      "Current angles: [1.501 1.955 1.604]\n",
      "Current energy: 0.00561700000000126\n",
      "Current angles: [1.501 1.965 1.609]\n",
      "Current energy: 0.00984700000000116\n",
      "Current angles: [1.5   1.956 1.603]\n",
      "Current energy: -0.0013149999999987338\n",
      "Current angles: [1.503 1.956 1.607]\n",
      "Current energy: 0.006326000000001275\n",
      "Current angles: [1.502 1.958 1.606]\n",
      "Current energy: 0.0050130000000012664\n",
      "Current angles: [1.5   1.958 1.607]\n",
      "Current energy: 0.010240000000001193\n",
      "Current angles: [1.502 1.958 1.606]\n",
      "Current energy: 0.005028000000001531\n",
      "Current angles: [1.502 1.958 1.607]\n",
      "Current energy: 0.0007740000000012182\n",
      "Current angles: [1.501 1.957 1.607]\n",
      "Current energy: 0.0021590000000011322\n",
      "Current angles: [1.502 1.957 1.607]\n",
      "Current energy: 0.0064730000000011445\n",
      "Current angles: [1.502 1.958 1.607]\n",
      "Current energy: 0.0028880000000013617\n",
      "Current angles: [1.501 1.958 1.607]\n",
      "Current energy: -0.0027089999999986847\n",
      "Current angles: [1.501 1.958 1.607]\n",
      "Current energy: 0.004511000000001375\n",
      "Current angles: [1.501 1.958 1.607]\n",
      "Current energy: 0.0010500000000012444\n",
      "Current angles: [1.501 1.958 1.607]\n",
      "Current energy: 0.004112000000001281\n",
      "Current angles: [1.501 1.958 1.607]\n",
      "Current energy: -0.000177999999998818\n",
      "Current angles: [1.501 1.958 1.607]\n",
      "Current energy: 0.0009590000000012644\n",
      "Runtime: 3.0 minutes.\n"
     ]
    }
   ],
   "source": [
    "\"\"\"Do the optimization.\"\"\"\n",
    "# start = time.time()\n",
    "# res = minimize(costLS1, x0=[pi / 2] * n, method=\"COBYLA\", args=(True,))\n",
    "# print(\"Runtime:\", (time.time() - start) // 60, \"minutes.\")"
   ]
  },
  {
   "cell_type": "code",
   "execution_count": 11,
   "metadata": {},
   "outputs": [
    {
     "data": {
      "text/plain": [
       "'Optimize by annealing.'"
      ]
     },
     "execution_count": 11,
     "metadata": {},
     "output_type": "execute_result"
    }
   ],
   "source": [
    "\"\"\"Optimize by annealing.\"\"\"\n",
    "# start = time.time()\n",
    "# res = dual_annealing(costLS1, bounds=[(0, 2 * pi)] * n, args=(True,))\n",
    "# print(\"Runtime:\", (time.time() - start) // 60, \"minutes.\")"
   ]
  },
  {
   "cell_type": "code",
   "execution_count": null,
   "metadata": {},
   "outputs": [],
   "source": [
    "\"\"\"Compute energy at optimal angles.\"\"\"\n",
    "vqls.energy([1.61, 1.88, 1.61], ham, circ, creg, lattice)"
   ]
  },
  {
   "cell_type": "markdown",
   "metadata": {},
   "source": [
    "### <p style=\"text-align: center;\"> Compare the Quantum and Classical Solutions </p>"
   ]
  },
  {
   "cell_type": "code",
   "execution_count": 12,
   "metadata": {},
   "outputs": [
    {
     "name": "stdout",
     "output_type": "stream",
     "text": [
      "Minimum cost found: 0.0009590000000012644\n",
      "Best found angles: [1.501 1.958 1.607]\n"
     ]
    }
   ],
   "source": [
    "print(\"Minimum cost found:\", res.fun)\n",
    "print(\"Best found angles:\", res.x)"
   ]
  },
  {
   "cell_type": "code",
   "execution_count": 13,
   "metadata": {
    "scrolled": true
   },
   "outputs": [
    {
     "name": "stdout",
     "output_type": "stream",
     "text": [
      "[0.283+0.j 0.264+0.j 0.421+0.j 0.393+0.j 0.294+0.j 0.274+0.j 0.437+0.j\n",
      " 0.407+0.j]\n"
     ]
    }
   ],
   "source": [
    "qxvec = vqls.qsolution(circ, res.x)\n",
    "print(qxvec)"
   ]
  },
  {
   "cell_type": "code",
   "execution_count": 15,
   "metadata": {},
   "outputs": [
    {
     "name": "stdout",
     "output_type": "stream",
     "text": [
      "Comparing x vectors:\n",
      "====================\n",
      "| < xquantum | xclassical > |^2 = 1.0\n",
      "|| xquantum - xclassical ||^2 = 0.0\n",
      "\n",
      "Comparing b vectors:\n",
      "====================\n",
      "| < bquantum | bclassical > |^2 = 1.0\n",
      "|| bquantum - bclassical ||^2 = 0.0\n"
     ]
    }
   ],
   "source": [
    "\"\"\"Compare to classical solution.\"\"\"\n",
    "# Get the classical solution\n",
    "Amat = vqls.matrix(Acoeffs, Aterms)\n",
    "bvec = vqls.vector(Bcoeffs, Bterms)\n",
    "xvec = np.linalg.solve(Amat, bvec)\n",
    "xvec /= np.linalg.norm(xvec)\n",
    "\n",
    "# ===========================\n",
    "# Compare classical x vectors\n",
    "# ===========================\n",
    "\n",
    "print(\"Comparing x vectors:\")\n",
    "print(\"====================\")\n",
    "\n",
    "# Compute the fidelity\n",
    "fidelity = abs(np.dot(qxvec.conj(), xvec))**2\n",
    "print(r\"| < xquantum | xclassical > |^2 =\", round(fidelity, 2))\n",
    "\n",
    "# Compute the L2 distance\n",
    "l2dist = np.linalg.norm(qxvec - xvec, ord=2)**2\n",
    "print(r\"|| xquantum - xclassical ||^2 =\", round(l2dist, 2))\n",
    "\n",
    "# ==========================\n",
    "# Compare solution b vectors\n",
    "# ==========================\n",
    "\n",
    "print(\"\\nComparing b vectors:\")\n",
    "print(\"====================\")\n",
    "\n",
    "# Compute |qbvec> = A |theta optimal>\n",
    "qbvec = Amat @ qxvec\n",
    "qbvec /= np.linalg.norm(qbvec)\n",
    "bfidelity = abs(np.dot(bvec.conj(), qbvec))**2\n",
    "print(r\"| < bquantum | bclassical > |^2 =\", round(bfidelity, 2))\n",
    "\n",
    "bl2dist = np.linalg.norm(qbvec - bvec, ord=2)**2\n",
    "print(r\"|| bquantum - bclassical ||^2 =\", round(bl2dist, 2))"
   ]
  },
  {
   "cell_type": "markdown",
   "metadata": {},
   "source": [
    "**SAVE THIS CELL!**"
   ]
  },
  {
   "cell_type": "code",
   "execution_count": null,
   "metadata": {},
   "outputs": [],
   "source": [
    "\"\"\"SAVE THIS CELL!\n",
    "\n",
    "Optimal angles for Ry product ansatz. Energy of effective Hamiltonian is near 0.001 here.\n",
    "\"\"\"\n",
    "LS1opt_angles = [1.60380032, 1.88421818, 1.61131353, 1.51679728, 1.44425814]"
   ]
  },
  {
   "cell_type": "markdown",
   "metadata": {},
   "source": [
    "## <p style=\"text-align: center;\"> Five Qubit Example </p>"
   ]
  },
  {
   "cell_type": "code",
   "execution_count": 17,
   "metadata": {},
   "outputs": [
    {
     "name": "stdout",
     "output_type": "stream",
     "text": [
      "Number of terms: 48\n",
      "H = \n",
      "(1.034+0j) \t* \tIIIII +\n",
      "(0.354+0j) \t* \tXIIII +\n",
      "(0.385+0j) \t* \tXZIII +\n",
      "(0.065+0j) \t* \tIZIII +\n",
      "(-0.046+0j) \t* \tIIIIX +\n",
      "(-0.046+0j) \t* \tIIIXI +\n",
      "(-0.046+0j) \t* \tIIIXX +\n",
      "(-0.046+0j) \t* \tIIXII +\n",
      "(-0.046+0j) \t* \tIIXIX +\n",
      "(-0.046+0j) \t* \tIIXXI +\n",
      "(-0.046+0j) \t* \tIIXXX +\n",
      "(-0.044+0j) \t* \tIXIII +\n",
      "(-0.015+0j) \t* \tIZIIX +\n",
      "(-0.044+0j) \t* \tIXIIX +\n",
      "(-0.015+0j) \t* \tIZIXI +\n",
      "(-0.044+0j) \t* \tIXIXI +\n",
      "(-0.015+0j) \t* \tIZIXX +\n",
      "(-0.044+0j) \t* \tIXIXX +\n",
      "(-0.015+0j) \t* \tIZXII +\n",
      "(-0.044+0j) \t* \tIXXII +\n",
      "(-0.015+0j) \t* \tIZXIX +\n",
      "(-0.044+0j) \t* \tIXXIX +\n",
      "(-0.015+0j) \t* \tIZXXI +\n",
      "(-0.044+0j) \t* \tIXXXI +\n",
      "(-0.015+0j) \t* \tIZXXX +\n",
      "(-0.044+0j) \t* \tIXXXX +\n",
      "(-0.046+0j) \t* \tXIIIX +\n",
      "(-0.046+0j) \t* \tXIIXI +\n",
      "(-0.046+0j) \t* \tXIIXX +\n",
      "(-0.046+0j) \t* \tXIXII +\n",
      "(-0.046+0j) \t* \tXIXIX +\n",
      "(-0.046+0j) \t* \tXIXXI +\n",
      "(-0.046+0j) \t* \tXIXXX +\n",
      "(-0.044+0j) \t* \tXXIII +\n",
      "(-0.015+0j) \t* \tXZIIX +\n",
      "(-0.044+0j) \t* \tXXIIX +\n",
      "(-0.015+0j) \t* \tXZIXI +\n",
      "(-0.044+0j) \t* \tXXIXI +\n",
      "(-0.015+0j) \t* \tXZIXX +\n",
      "(-0.044+0j) \t* \tXXIXX +\n",
      "(-0.015+0j) \t* \tXZXII +\n",
      "(-0.044+0j) \t* \tXXXII +\n",
      "(-0.015+0j) \t* \tXZXIX +\n",
      "(-0.044+0j) \t* \tXXXIX +\n",
      "(-0.015+0j) \t* \tXZXXI +\n",
      "(-0.044+0j) \t* \tXXXXI +\n",
      "(-0.015+0j) \t* \tXZXXX +\n",
      "(-0.044+0j) \t* \tXXXXX \n"
     ]
    }
   ],
   "source": [
    "\"\"\"Terms in effective Hamiltonian for first linear system.\"\"\"\n",
    "# Number of qubits\n",
    "n = 5\n",
    "\n",
    "# Define the B matrix of the linear system\n",
    "Bcoeffs = [1 / 2**(n / 2)] * 2**n\n",
    "paulis = [[\"X\", \"Z\"]] * n\n",
    "prods = list(product(*paulis))\n",
    "Bterms = [\"\".join(p) for p in prods]\n",
    "\n",
    "# Define the A matrix of the linear system\n",
    "Acoeffs = [1, 0.2, 0.2]\n",
    "Aterms = [\"IIIII\", \"XIIII\", \"XZIII\"]\n",
    "\n",
    "# Get the effective Hamiltonian\n",
    "ham = vqls.effective_hamiltonian(Acoeffs, Aterms, Bcoeffs, Bterms)\n",
    "\n",
    "# Display the effective Hamiltonian\n",
    "nterms = len(ham)\n",
    "print(\"Number of terms:\", nterms)\n",
    "print(\"H = \")\n",
    "for ii in range(nterms):\n",
    "    print(f\"{round(ham[ii][0], 3)} \\t* \\t{ham[ii][1]}\", (lambda ii: \"+\" if ii < nterms - 1 else \"\")(ii))"
   ]
  },
  {
   "cell_type": "code",
   "execution_count": 18,
   "metadata": {},
   "outputs": [],
   "source": [
    "\"\"\"Get a quantum computer to run on.\"\"\"\n",
    "qcomputer = f\"Aspen-7-{n}Q-B\"  # Three qubit lattice for testing optimizer\n",
    "lattice = get_qc(qcomputer, as_qvm=True)  # Change to as_qvm=False to run on QC. Must have reservation."
   ]
  },
  {
   "cell_type": "code",
   "execution_count": 19,
   "metadata": {},
   "outputs": [
    {
     "data": {
      "image/png": "[encoded data removed]",
      "text/plain": [
       "<Figure size 432x288 with 1 Axes>"
      ]
     },
     "metadata": {},
     "output_type": "display_data"
    }
   ],
   "source": [
    "\"\"\"Visualize the qubit connectivity.\"\"\"\n",
    "graph = lattice.qubit_topology()\n",
    "nx.draw(graph)"
   ]
  },
  {
   "cell_type": "code",
   "execution_count": 20,
   "metadata": {},
   "outputs": [
    {
     "name": "stdout",
     "output_type": "stream",
     "text": [
      "DECLARE ro BIT[5]\n",
      "DECLARE theta REAL[5]\n",
      "RY(theta[0]) 10\n",
      "RY(theta[1]) 11\n",
      "RY(theta[2]) 12\n",
      "RY(theta[3]) 13\n",
      "RY(theta[4]) 14\n",
      "\n"
     ]
    }
   ],
   "source": [
    "\"\"\"Get an ansatz and visualize it.\"\"\"\n",
    "circ, creg = vqls.yansatz(lattice)\n",
    "print(circ)"
   ]
  },
  {
   "cell_type": "code",
   "execution_count": 21,
   "metadata": {},
   "outputs": [],
   "source": [
    "\"\"\"Cost function for linear system 1.\"\"\"\n",
    "def costLS1(angles, min_weight: float = 0.0, verbose: bool = False):\n",
    "    val = vqls.energy(angles, ham, circ, creg, lattice, min_weight=min_weight, shots=10000)\n",
    "    if verbose:\n",
    "        print(\"Current angles:\", angles)\n",
    "        print(\"Current energy:\", val)\n",
    "    return val"
   ]
  },
  {
   "cell_type": "code",
   "execution_count": 24,
   "metadata": {},
   "outputs": [
    {
     "name": "stderr",
     "output_type": "stream",
     "text": [
      "/home/ryan/phd/rigettiVQLS/pyquil/lib/python3.6/site-packages/rpcq/_client.py:196: UserWarning: SIMPLE-WARNING: Chip specification contained fidelity 1.0d0 > 0.99999d0. Truncating to 0.99999d0.\n",
      "  warn(f\"{warning.kind}: {warning.body}\")\n",
      "/home/ryan/phd/rigettiVQLS/pyquil/lib/python3.6/site-packages/rpcq/_client.py:196: UserWarning: SIMPLE-WARNING: Chip specification contained fidelity 0.99999956012908d0 > 0.99999d0. Truncating to 0.99999d0.\n",
      "  warn(f\"{warning.kind}: {warning.body}\")\n"
     ]
    },
    {
     "name": "stdout",
     "output_type": "stream",
     "text": [
      "Current angles: [1.571 1.571 1.571 1.571 1.571]\n",
      "Current energy: 0.039300999999994236\n",
      "Current angles: [2.571 1.571 1.571 1.571 1.571]\n",
      "Current energy: 0.18388274999999593\n",
      "Current angles: [1.571 2.571 1.571 1.571 1.571]\n",
      "Current energy: 0.16383474999999625\n",
      "Current angles: [1.571 1.571 2.571 1.571 1.571]\n",
      "Current energy: 0.3669907499999956\n",
      "Current angles: [1.571 1.571 1.571 2.571 1.571]\n",
      "Current energy: 0.3724597499999948\n",
      "Current angles: [1.571 1.571 1.571 1.571 2.571]\n",
      "Current energy: 0.3691847499999955\n",
      "Current angles: [1.331 1.364 1.027 1.018 1.024]\n",
      "Current energy: 0.40155849999999593\n",
      "Current angles: [1.451 1.468 1.299 1.295 1.297]\n",
      "Current energy: 0.15294124999999503\n",
      "Current angles: [1.543 1.547 1.801 1.507 1.507]\n",
      "Current energy: 0.06844799999999511\n",
      "Current angles: [1.652 1.476 1.571 1.571 1.571]\n",
      "Current energy: 0.07403424999999467\n",
      "Current angles: [1.73  1.754 1.57  1.528 1.529]\n",
      "Current energy: 0.017547999999995158\n",
      "Current angles: [1.73  1.754 1.57  1.616 1.44 ]\n",
      "Current energy: 0.017880499999994956\n",
      "Current angles: [1.669 1.935 1.563 1.642 1.643]\n",
      "Current energy: 0.004258749999995003\n",
      "Current angles: [1.557 2.058 1.434 1.544 1.549]\n",
      "Current energy: 0.018617249999994874\n",
      "Current angles: [1.639 1.97  1.675 1.618 1.621]\n",
      "Current energy: 0.008519249999994476\n",
      "Current angles: [1.721 1.966 1.563 1.631 1.633]\n",
      "Current energy: 0.008388249999995032\n",
      "Current angles: [1.636 1.901 1.558 1.722 1.727]\n",
      "Current energy: 0.021928999999994606\n",
      "Current angles: [1.668 1.936 1.562 1.597 1.687]\n",
      "Current energy: 0.005830249999994978\n",
      "Current angles: [1.596 1.985 1.499 1.609 1.593]\n",
      "Current energy: 8.924999999464917e-05\n",
      "Current angles: [1.595 1.94  1.493 1.582 1.559]\n",
      "Current energy: 0.003723249999994717\n",
      "Current angles: [1.604 1.977 1.472 1.617 1.602]\n",
      "Current energy: 0.006475999999995097\n",
      "Current angles: [1.56  2.007 1.544 1.61  1.585]\n",
      "Current energy: 0.004637999999994674\n",
      "Current angles: [1.605 1.99  1.499 1.628 1.571]\n",
      "Current energy: 0.013859499999995036\n",
      "Current angles: [1.619 2.009 1.502 1.558 1.607]\n",
      "Current energy: 0.006976999999995216\n",
      "Current angles: [1.612 1.972 1.519 1.614 1.602]\n",
      "Current energy: 0.002968249999994989\n",
      "Current angles: [1.561 1.964 1.479 1.607 1.637]\n",
      "Current energy: 0.0009847499999951215\n",
      "Current angles: [1.597 1.993 1.479 1.631 1.586]\n",
      "Current energy: 0.007570499999995171\n",
      "Current angles: [1.6   1.992 1.497 1.596 1.598]\n",
      "Current energy: -0.0008260000000053988\n",
      "Current angles: [1.59  1.998 1.506 1.592 1.596]\n",
      "Current energy: 0.003623749999994673\n",
      "Current angles: [1.603 1.992 1.498 1.595 1.591]\n",
      "Current energy: 0.01168549999999504\n",
      "Current angles: [1.593 1.985 1.492 1.595 1.609]\n",
      "Current energy: 0.00015149999999503755\n",
      "Current angles: [1.596 1.995 1.491 1.597 1.595]\n",
      "Current energy: 0.004510499999995116\n",
      "Current angles: [1.604 2.    1.5   1.604 1.607]\n",
      "Current energy: 0.005261249999995013\n",
      "Current angles: [1.608 1.981 1.501 1.591 1.596]\n",
      "Current energy: 0.007571999999994548\n",
      "Current angles: [1.598 1.994 1.49  1.596 1.595]\n",
      "Current energy: 0.003277249999994923\n",
      "Current angles: [1.602 1.989 1.498 1.595 1.597]\n",
      "Current energy: 0.0010977499999946239\n",
      "Current angles: [1.601 1.993 1.497 1.597 1.597]\n",
      "Current energy: 0.012360749999995008\n",
      "Current angles: [1.598 1.99  1.496 1.596 1.6  ]\n",
      "Current energy: 0.0025004999999951316\n",
      "Current angles: [1.6   1.993 1.496 1.595 1.599]\n",
      "Current energy: 0.004952749999994642\n",
      "Current angles: [1.599 1.991 1.498 1.6   1.597]\n",
      "Current energy: 0.006743999999995094\n",
      "Current angles: [1.598 1.992 1.497 1.595 1.597]\n",
      "Current energy: 0.004477249999994576\n",
      "Current angles: [1.602 1.994 1.497 1.595 1.6  ]\n",
      "Current energy: 0.0027022499999947575\n",
      "Current angles: [1.6   1.992 1.495 1.596 1.597]\n",
      "Current energy: 0.005200999999995008\n",
      "Current angles: [1.599 1.991 1.497 1.596 1.599]\n",
      "Current energy: 0.0007147499999952886\n",
      "Current angles: [1.6   1.991 1.497 1.596 1.598]\n",
      "Current energy: 0.0003944999999947879\n",
      "Current angles: [1.6   1.992 1.497 1.597 1.598]\n",
      "Current energy: -0.0024840000000050377\n",
      "Current angles: [1.6   1.993 1.497 1.597 1.598]\n",
      "Current energy: 0.008348249999995151\n",
      "Current angles: [1.6   1.992 1.497 1.597 1.598]\n",
      "Current energy: 0.0001054999999951095\n",
      "Current angles: [1.599 1.991 1.497 1.597 1.597]\n",
      "Current energy: 0.0013392499999949278\n",
      "Current angles: [1.6   1.992 1.497 1.597 1.598]\n",
      "Current energy: 0.0003474999999944911\n",
      "Current angles: [1.6   1.992 1.497 1.597 1.598]\n",
      "Current energy: 0.005956499999995098\n",
      "Current angles: [1.6   1.992 1.497 1.597 1.598]\n",
      "Current energy: 0.005204249999994852\n",
      "Current angles: [1.6   1.992 1.497 1.597 1.598]\n",
      "Current energy: 0.00461049999999532\n",
      "Current angles: [1.6   1.992 1.497 1.597 1.598]\n",
      "Current energy: 0.006773249999994908\n",
      "Current angles: [1.6   1.992 1.497 1.597 1.598]\n",
      "Current energy: 0.015346999999995392\n",
      "Current angles: [1.6   1.992 1.497 1.597 1.598]\n",
      "Current energy: 0.005406249999995075\n",
      "Current angles: [1.6   1.992 1.497 1.597 1.598]\n",
      "Current energy: 0.012609249999994743\n",
      "Current angles: [1.6   1.992 1.497 1.597 1.598]\n",
      "Current energy: 0.004258499999995363\n",
      "Current angles: [1.6   1.992 1.497 1.597 1.598]\n",
      "Current energy: 0.0011579999999947188\n",
      "Runtime: 40.0 minutes.\n"
     ]
    }
   ],
   "source": [
    "\"\"\"Do the optimization.\"\"\"\n",
    "start = time.time()\n",
    "res = minimize(costLS1, x0=[pi / 2] * n, method=\"COBYLA\", args=(0.01, True))\n",
    "print(\"Runtime:\", (time.time() - start) // 60, \"minutes.\")"
   ]
  },
  {
   "cell_type": "code",
   "execution_count": 25,
   "metadata": {},
   "outputs": [
    {
     "name": "stdout",
     "output_type": "stream",
     "text": [
      "Minimum cost found: 0.0011579999999947188\n",
      "Best found angles: [1.6   1.992 1.497 1.597 1.598]\n"
     ]
    }
   ],
   "source": [
    "print(\"Minimum cost found:\", res.fun)\n",
    "print(\"Best found angles:\", res.x)"
   ]
  },
  {
   "cell_type": "code",
   "execution_count": 26,
   "metadata": {},
   "outputs": [
    {
     "name": "stdout",
     "output_type": "stream",
     "text": [
      "[0.135+0.j 0.139+0.j 0.209+0.j 0.215+0.j 0.126+0.j 0.129+0.j 0.194+0.j\n",
      " 0.199+0.j 0.139+0.j 0.143+0.j 0.214+0.j 0.22 +0.j 0.129+0.j 0.133+0.j\n",
      " 0.199+0.j 0.205+0.j 0.139+0.j 0.143+0.j 0.214+0.j 0.221+0.j 0.129+0.j\n",
      " 0.133+0.j 0.199+0.j 0.205+0.j 0.142+0.j 0.147+0.j 0.22 +0.j 0.226+0.j\n",
      " 0.132+0.j 0.136+0.j 0.204+0.j 0.21 +0.j]\n"
     ]
    }
   ],
   "source": [
    "qxvec = vqls.qsolution(circ, res.x)\n",
    "print(qxvec)"
   ]
  },
  {
   "cell_type": "code",
   "execution_count": 27,
   "metadata": {},
   "outputs": [
    {
     "name": "stdout",
     "output_type": "stream",
     "text": [
      "Comparing x vectors:\n",
      "====================\n",
      "| < xquantum | xclassical > |^2 = 0.93\n",
      "|| xquantum - xclassical ||^2 = 0.07\n",
      "\n",
      "Comparing b vectors:\n",
      "====================\n",
      "| < bquantum | bclassical > |^2 = 0.93\n",
      "|| bquantum - bclassical ||^2 = 0.07\n"
     ]
    }
   ],
   "source": [
    "\"\"\"Compare to classical solution.\"\"\"\n",
    "# Get the classical solution\n",
    "Amat = vqls.matrix(Acoeffs, Aterms)\n",
    "bvec = vqls.vector(Bcoeffs, Bterms)\n",
    "xvec = np.linalg.solve(Amat, bvec)\n",
    "xvec /= np.linalg.norm(xvec)\n",
    "\n",
    "# ===========================\n",
    "# Compare classical x vectors\n",
    "# ===========================\n",
    "\n",
    "print(\"Comparing x vectors:\")\n",
    "print(\"====================\")\n",
    "\n",
    "# Compute the fidelity\n",
    "fidelity = abs(np.dot(qxvec.conj(), xvec))**2\n",
    "print(r\"| < xquantum | xclassical > |^2 =\", round(fidelity, 2))\n",
    "\n",
    "# Compute the L2 distance\n",
    "l2dist = np.linalg.norm(qxvec - xvec, ord=2)**2\n",
    "print(r\"|| xquantum - xclassical ||^2 =\", round(l2dist, 2))\n",
    "\n",
    "# ==========================\n",
    "# Compare solution b vectors\n",
    "# ==========================\n",
    "\n",
    "print(\"\\nComparing b vectors:\")\n",
    "print(\"====================\")\n",
    "\n",
    "# Compute |qbvec> = A |theta optimal>\n",
    "qbvec = Amat @ qxvec\n",
    "qbvec /= np.linalg.norm(qbvec)\n",
    "bfidelity = abs(np.dot(bvec.conj(), qbvec))**2\n",
    "print(r\"| < bquantum | bclassical > |^2 =\", round(bfidelity, 2))\n",
    "\n",
    "bl2dist = np.linalg.norm(qbvec - bvec, ord=2)**2\n",
    "print(r\"|| bquantum - bclassical ||^2 =\", round(bl2dist, 2))"
   ]
  },
  {
   "cell_type": "markdown",
   "metadata": {},
   "source": [
    "# <p style=\"text-align: center;\"> Linear System 2 </p>"
   ]
  },
  {
   "cell_type": "markdown",
   "metadata": {},
   "source": [
    "The second linear system we consider is formed from the Ising model.\n",
    "\n",
    "\\begin{equation}\n",
    "    A_2 := \\frac{1}{\\zeta} \\left(\\eta I + \\sum_{j=1}^{n} X_j + J \\sum_{j=1}^{n-1}Z_jZ_{j+1} \\right)\n",
    "\\end{equation}"
   ]
  },
  {
   "cell_type": "code",
   "execution_count": null,
   "metadata": {},
   "outputs": [],
   "source": [
    "def get_Acoeffs_Aterms_LS2(n: int, zeta: float, eta: float, J: float):\n",
    "    \"\"\"Returns linear system 2 expressed as weighted Pauli sum.\"\"\"\n",
    "    if n < 0:\n",
    "        raise ValueError(\"Number of qubits must be >= 1.\")\n",
    "    # Add the identity\n",
    "    Acoeffs = [eta / zeta]\n",
    "    Aterms = [\"I\" * n]\n",
    "    \n",
    "    # Add the X terms\n",
    "    Acoeffs += [1 / zeta] * n\n",
    "    xbase = \"X\" + \"I\" * (n - 1)\n",
    "    for ii in range(n, 0, -1):\n",
    "        Aterms.append(xbase[ii:] + xbase[:ii])\n",
    "        \n",
    "    # Add the ZZ terms\n",
    "    Acoeffs += [J / zeta] * (n - 1)\n",
    "    zzbase = \"ZZ\" + \"I\" * (n - 2)\n",
    "    for ii in range(n, 1, -1):\n",
    "        Aterms.append(zzbase[ii:] + zzbase[:ii])\n",
    "    \n",
    "    return Acoeffs, Aterms"
   ]
  },
  {
   "cell_type": "code",
   "execution_count": null,
   "metadata": {},
   "outputs": [],
   "source": [
    "def yansatzCZ(computer):\n",
    "    \"\"\"Returns a Ry ansatz with some entanglement.\"\"\"\n",
    "    # Grab the qubits\n",
    "    qubits = tuple(computer.qubits())\n",
    "    n = len(qubits)\n",
    "    \n",
    "    # Get a circuit and classical memory register\n",
    "    circ = Program()\n",
    "    creg = circ.declare(\"ro\", memory_type=\"BIT\", memory_size=n)\n",
    "\n",
    "    # Define parameters for the ansatz\n",
    "    angles = circ.declare(\"theta\", memory_type=\"REAL\", memory_size=n)\n",
    "\n",
    "    # Add the ansatz\n",
    "    circ += [gates.RY(angles[ii], qubits[ii]) for ii in range(n)]\n",
    "    circ += [gates.CZ(qubits[ii], qubits[ii + 1]) for ii in range(n - 1)]\n",
    "    \n",
    "    return circ, creg"
   ]
  },
  {
   "cell_type": "code",
   "execution_count": null,
   "metadata": {},
   "outputs": [],
   "source": [
    "\"\"\"Unit tests for getting LS2.\"\"\"\n",
    "Acoeffs, Aterms = get_Acoeffs_Aterms_LS2(4, 1, 1, 0.1)\n",
    "assert Acoeffs == [1.0, 1.0, 1.0, 1.0, 1.0, 0.1, 0.1, 0.1]\n",
    "assert Aterms == ['IIII', 'XIII', 'IXII', 'IIXI', 'IIIX', 'ZZII', 'IZZI', 'IIZZ']"
   ]
  },
  {
   "cell_type": "code",
   "execution_count": null,
   "metadata": {
    "scrolled": true
   },
   "outputs": [],
   "source": [
    "\"\"\"Terms in effective Hamiltonian for second linear system.\"\"\"\n",
    "# Number of qubits\n",
    "n = 3\n",
    "\n",
    "# Constants\n",
    "zeta = 1.0\n",
    "J = 0.1\n",
    "eta = 1.0\n",
    "\n",
    "# |b> = H|0>\n",
    "Bcoeffs = [1 / 2**(n / 2)] * 2**n\n",
    "paulis = [[\"X\", \"Z\"]] * n\n",
    "prods = list(product(*paulis))\n",
    "Bterms = [\"\".join(p) for p in prods]\n",
    "\n",
    "# Bcoeffs = [1 / 2**(1 / 2)] * 2\n",
    "# Bterms = [\"IXIII\", \"XIXII\"]\n",
    "\n",
    "# Linear system in weighted Paulis\n",
    "Acoeffs, Aterms = get_Acoeffs_Aterms_LS2(n, zeta, eta, J)\n",
    "\n",
    "# Normalize A and B coefficients\n",
    "# TODO: Do this calculation in terms of the coefficients, not the explicit matrix\n",
    "Amat = vqls.matrix(Acoeffs, Aterms)\n",
    "Anorm = np.linalg.norm(Amat, ord=2)\n",
    "Acoeffs = np.array(Acoeffs)\n",
    "Acoeffs /= Anorm\n",
    "\n",
    "Bmat = vqls.matrix(Bcoeffs, Bterms)\n",
    "Bnorm = np.linalg.norm(Bmat, ord=2)\n",
    "Bcoeffs = np.array(Bcoeffs)\n",
    "Bcoeffs /= Bnorm\n",
    "\n",
    "ham2 = vqls.effective_hamiltonian(Acoeffs, Aterms, Bcoeffs, Bterms)\n",
    "\n",
    "# Display the effective Hamiltonian\n",
    "nterms = len(ham2)\n",
    "num = 0\n",
    "min_weight = 0.01\n",
    "print(\"Number of terms:\", nterms)\n",
    "print(\"H = \")\n",
    "for ii in range(nterms):\n",
    "    if abs(ham2[ii][0]) > min_weight:\n",
    "        num += 1\n",
    "    print(f\"{round(ham2[ii][0], 3)} \\t* \\t{ham2[ii][1]}\", (lambda ii: \"+\" if ii < nterms - 1 else \"\")(ii))\n",
    "\n",
    "print(f\"Number of terms with |coeff| > {min_weight} = {num}\")"
   ]
  },
  {
   "cell_type": "code",
   "execution_count": null,
   "metadata": {
    "scrolled": true
   },
   "outputs": [],
   "source": [
    "\"\"\"View matrix of linear system we are solving.\"\"\"\n",
    "Amat = vqls.matrix(Acoeffs, Aterms)\n",
    "print(\"Matrix A =\")\n",
    "print(np.real(Amat))"
   ]
  },
  {
   "cell_type": "code",
   "execution_count": null,
   "metadata": {},
   "outputs": [],
   "source": [
    "\"\"\"View effective Hamiltonian matrix.\"\"\"\n",
    "Hmat = vqls.matrix_of_hamiltonian(ham2)\n",
    "print(\"Effective Hamiltonian =\")\n",
    "print(np.real(Hmat))"
   ]
  },
  {
   "cell_type": "code",
   "execution_count": null,
   "metadata": {},
   "outputs": [],
   "source": [
    "\"\"\"Get a computer to run on.\"\"\"\n",
    "qcomputer = f\"Aspen-7-{n}Q-B\"\n",
    "lattice5q = get_qc(qcomputer, as_qvm=True)  # Change to as_qvm=False to run on QC. Must have reservation."
   ]
  },
  {
   "cell_type": "code",
   "execution_count": null,
   "metadata": {},
   "outputs": [],
   "source": [
    "\"\"\"Get an ansatz.\"\"\"\n",
    "circ, creg = vqls.yansatz(lattice5q)\n",
    "print(circ)"
   ]
  },
  {
   "cell_type": "code",
   "execution_count": null,
   "metadata": {},
   "outputs": [],
   "source": [
    "\"\"\"Cost function for linear system 2.\"\"\"\n",
    "def costLS2(angles, min_weight: float = 0.0, verbose: bool = False):\n",
    "    val = vqls.energy(angles, ham2, circ, creg, lattice5q, min_weight=min_weight, shots=10000)\n",
    "    if verbose:\n",
    "        print(\"Current angles:\", angles)\n",
    "        print(\"Current energy:\", val)\n",
    "    return val"
   ]
  },
  {
   "cell_type": "code",
   "execution_count": null,
   "metadata": {
    "scrolled": false
   },
   "outputs": [],
   "source": [
    "\"\"\"Optimization: Testing fmin functions from scipy.optimize.\"\"\"\n",
    "start = time.time()\n",
    "res = fmin(costLS2, x0=[pi / 2] * n, ftol=0.001, maxfun=50, args=(0.01, True,))\n",
    "print(\"Runtime:\", (time.time() - start) // 60, \"minutes.\")"
   ]
  },
  {
   "cell_type": "code",
   "execution_count": null,
   "metadata": {},
   "outputs": [],
   "source": [
    "\"\"\"Do the optimization.\"\"\"\n",
    "start = time.time()\n",
    "res = minimize(costLS2, x0=[pi / 2] * n, method=\"COBYLA\", args=(0.00, True))\n",
    "print(\"Runtime:\", (time.time() - start) // 60, \"minutes.\")"
   ]
  },
  {
   "cell_type": "code",
   "execution_count": null,
   "metadata": {
    "scrolled": true
   },
   "outputs": [],
   "source": [
    "print(\"Optimal angles:\", res.x)"
   ]
  },
  {
   "cell_type": "code",
   "execution_count": null,
   "metadata": {},
   "outputs": [],
   "source": [
    "\"\"\"Evaluate the energy at the best found angles (using all terms).\"\"\"\n",
    "vqls.energy(res.x, ham2, circ, creg, lattice5q, min_weight=0)"
   ]
  },
  {
   "cell_type": "code",
   "execution_count": null,
   "metadata": {
    "scrolled": false
   },
   "outputs": [],
   "source": [
    "\"\"\"Get the quantum solution (x vector).\"\"\"\n",
    "qxvec = vqls.qsolution(circ, res.x)\n",
    "print(*np.real(qxvec), sep=\"\\n\")"
   ]
  },
  {
   "cell_type": "code",
   "execution_count": null,
   "metadata": {
    "scrolled": true
   },
   "outputs": [],
   "source": [
    "\"\"\"Compare to classical solution.\"\"\"\n",
    "# Get the classical solution\n",
    "Amat = vqls.matrix(Acoeffs, Aterms)\n",
    "bvec = vqls.vector(Bcoeffs, Bterms)\n",
    "xvec = np.linalg.solve(Amat, bvec)\n",
    "xvec /= np.linalg.norm(xvec)\n",
    "\n",
    "# ===========================\n",
    "# Compare classical x vectors\n",
    "# ===========================\n",
    "\n",
    "print(\"Comparing x vectors:\")\n",
    "print(\"====================\")\n",
    "\n",
    "# Compute the fidelity\n",
    "fidelity = abs(np.dot(qxvec.conj(), xvec))**2\n",
    "print(r\"| < xquantum | xclassical > |^2 =\", round(fidelity, 2))\n",
    "\n",
    "# Compute the L2 distance\n",
    "l2dist = np.linalg.norm(qxvec - xvec, ord=2)**2\n",
    "print(r\"|| xquantum - xclassical ||^2 =\", round(l2dist, 2))\n",
    "\n",
    "# ==========================\n",
    "# Compare solution b vectors\n",
    "# ==========================\n",
    "\n",
    "print(\"\\nComparing b vectors:\")\n",
    "print(\"====================\")\n",
    "\n",
    "# Compute |qbvec> = A |theta optimal>\n",
    "qbvec = Amat @ qxvec\n",
    "qbvec /= np.linalg.norm(qbvec)\n",
    "bfidelity = abs(np.dot(bvec.conj(), qbvec))**2\n",
    "print(r\"| < bquantum | bclassical > |^2 =\", round(bfidelity, 2))\n",
    "\n",
    "bl2dist = np.linalg.norm(qbvec - bvec, ord=2)**2\n",
    "print(r\"|| bquantum - bclassical ||^2 =\", round(bl2dist, 2))"
   ]
  },
  {
   "cell_type": "markdown",
   "metadata": {},
   "source": [
    "### Figure out what tf is going on"
   ]
  },
  {
   "cell_type": "code",
   "execution_count": null,
   "metadata": {
    "scrolled": true
   },
   "outputs": [],
   "source": [
    "evals, evecs = np.linalg.eigh(Hmat)\n",
    "print(*evals, sep=\"\\n\")"
   ]
  },
  {
   "cell_type": "code",
   "execution_count": null,
   "metadata": {},
   "outputs": [],
   "source": [
    "bfound = Amat @ xvec\n",
    "bfound /= np.linalg.norm(bfound, ord=2)\n",
    "bfound"
   ]
  },
  {
   "cell_type": "code",
   "execution_count": null,
   "metadata": {},
   "outputs": [],
   "source": [
    "bvec"
   ]
  },
  {
   "cell_type": "code",
   "execution_count": null,
   "metadata": {
    "scrolled": true
   },
   "outputs": [],
   "source": [
    "xvec"
   ]
  },
  {
   "cell_type": "code",
   "execution_count": null,
   "metadata": {
    "scrolled": true
   },
   "outputs": [],
   "source": [
    "qxvec"
   ]
  },
  {
   "cell_type": "code",
   "execution_count": null,
   "metadata": {},
   "outputs": [],
   "source": [
    "bvec"
   ]
  },
  {
   "cell_type": "code",
   "execution_count": null,
   "metadata": {
    "scrolled": true
   },
   "outputs": [],
   "source": [
    "print(\"Index \\t Eigenvalue \\t f(xvec, evec[index])\")\n",
    "for ii in range(len(evals)):\n",
    "    print(ii, \"\\t\", round(evals[ii], 5), \"\\t\", round(abs(np.dot(xvec.conj(), evecs[:, ii])), 3))"
   ]
  },
  {
   "cell_type": "code",
   "execution_count": null,
   "metadata": {},
   "outputs": [],
   "source": [
    "print(*np.real(qxvec), sep=\"\\n\")"
   ]
  },
  {
   "cell_type": "code",
   "execution_count": null,
   "metadata": {},
   "outputs": [],
   "source": [
    "print(*np.real(evecs[:, 3]), sep=\"\\n\")"
   ]
  },
  {
   "cell_type": "code",
   "execution_count": null,
   "metadata": {},
   "outputs": [],
   "source": [
    "qbvec = Amat @ qxvec\n",
    "qbvec /= np.linalg.norm(qbvec)\n",
    "\n",
    "abs(np.dot(bvec.conj(), qbvec))**2"
   ]
  },
  {
   "cell_type": "code",
   "execution_count": null,
   "metadata": {},
   "outputs": [],
   "source": []
  },
  {
   "cell_type": "markdown",
   "metadata": {},
   "source": [
    "## Running on a Quantum Computer"
   ]
  },
  {
   "cell_type": "markdown",
   "metadata": {},
   "source": [
    "This notebook was made into a script that could be run on Rigetti's Quantum Cloud Services. In particular, we used a three qubit lattice \"Aspen-4-3Q-A,\" the fidelity/noise characterization of which can be found online. In the cell below, we load energy vs iteration data that was computed using our VQE algorithm on this lattice. We then plot it against the simulator result to compare the difference."
   ]
  },
  {
   "cell_type": "code",
   "execution_count": null,
   "metadata": {
    "scrolled": false
   },
   "outputs": [],
   "source": [
    "\"\"\"Plot the QPU energy vs iteration data obtained by running on Rigetti QCS.\"\"\"\n",
    "# Read in the files\n",
    "qpu_energy1 = np.loadtxt(\"qpu-energy-iteration1.txt\")\n",
    "qpu_energy2 = np.loadtxt(\"qpu-energy-iteration2.txt\")\n",
    "\n",
    "# Do the plotting\n",
    "plt.figure(figsize=(10, 5))\n",
    "plt.plot(energies, \"--o\", linewidth=3, label=\"Simulator\")\n",
    "plt.xlabel(\"Iteration\", fontsize=14, fontweight=\"bold\")\n",
    "plt.ylabel(\"Energy\", fontsize=14, fontweight=\"bold\")\n",
    "\n",
    "plt.plot(qpu_energy1, \"--o\", linewidth=3, label=\"Raw QPU Run 1\")\n",
    "plt.plot(qpu_energy2, \"--o\", linewidth=3, label=\"Raw QPU Run 2\")\n",
    "\n",
    "# Put a line at the actual ground state energy (see below)\n",
    "GSENERGY = 0.53232723\n",
    "plt.plot(GSENERGY * np.ones_like(energies), linewidth=3, label=\"Analytic Energy\")\n",
    "\n",
    "plt.grid()\n",
    "plt.legend();"
   ]
  },
  {
   "cell_type": "markdown",
   "metadata": {},
   "source": [
    "## Error Mitigation"
   ]
  },
  {
   "cell_type": "markdown",
   "metadata": {},
   "source": [
    "The QPU data above has a significant vertical shift from the simulator data, but generally the same \"shape.\" This shift is present because of decoherence, gate application errors, measurement errors, and other noise in the system. It can be accounted for by running a set of \"benchmark circuits\" on the QPU prior to running the actual algorithm. These benchmark circuits are simple circuits, such as NOT and MEASURE, for which one knows the actual output. The vertical shift in this benchmark circuit can then be tested for and subtracted from the final computed energies to get more accurate results. Other methods are also possible, and this is an area of active research.\n",
    "\n",
    "Here, we employ a similar idea, but instead of running a benchmark circuit, we just subtract off the difference of the initial energies on the QPU and on the simulator. The cell below implements this and plots the result again."
   ]
  },
  {
   "cell_type": "code",
   "execution_count": null,
   "metadata": {
    "scrolled": true
   },
   "outputs": [],
   "source": [
    "\"\"\"Plot the error mitigated QPU energy vs iteration data obtained by running on Rigetti QCS.\"\"\"\n",
    "# Constant shift amount. In practice, this would be obtained by running a \"benchmark circuit.\"\n",
    "# Here, we just set the value based on the above curves\n",
    "shift = 0.3\n",
    "\n",
    "# Read in the files\n",
    "qpu_energy1 = np.loadtxt(\"qpu-energy-iteration1.txt\")\n",
    "qpu_energy2 = np.loadtxt(\"qpu-energy-iteration2.txt\")\n",
    "\n",
    "# Subtract off the shift\n",
    "qpu_energy1 -= shift\n",
    "qpu_energy2 -= shift\n",
    "\n",
    "# Do the plotting\n",
    "plt.figure(figsize=(10, 5))\n",
    "plt.plot(energies, \"--o\", linewidth=3, label=\"Simulator\")\n",
    "plt.xlabel(\"Iteration\", fontsize=14, fontweight=\"bold\")\n",
    "plt.ylabel(\"Energy\", fontsize=14, fontweight=\"bold\")\n",
    "\n",
    "plt.plot(qpu_energy1, \"--o\", linewidth=3, label=\"Error Mitigated QPU Run 1\")\n",
    "plt.plot(qpu_energy2, \"--o\", linewidth=3, label=\"Error Mitigated QPU Run 2\")\n",
    "\n",
    "# Put a line at the actual ground state energy (see below)\n",
    "GSENERGY = 0.53232723\n",
    "plt.plot(GSENERGY * np.ones_like(energies), linewidth=3, label=\"Analytic Energy\")\n",
    "\n",
    "plt.grid()\n",
    "plt.legend();"
   ]
  },
  {
   "cell_type": "markdown",
   "metadata": {},
   "source": [
    "## Conclusions"
   ]
  },
  {
   "cell_type": "markdown",
   "metadata": {},
   "source": []
  },
  {
   "cell_type": "markdown",
   "metadata": {},
   "source": [
    "## Acknowledgements"
   ]
  },
  {
   "cell_type": "markdown",
   "metadata": {},
   "source": [
    "Thank coauthors and Rigetti."
   ]
  },
  {
   "cell_type": "markdown",
   "metadata": {},
   "source": [
    "## References"
   ]
  },
  {
   "cell_type": "markdown",
   "metadata": {},
   "source": [
    "[1] VQLS\n",
    "\n",
    "[2] HHL\n",
    "\n",
    "[3] QLSP via QSVE\n",
    "\n",
    "[4] Yigit's adiabatic algorithm\n",
    "\n",
    "[5] VQE Original paper\n",
    "\n",
    "[6] Theory of VQE\n",
    "\n",
    "[7] Ryan LaRose et al., [Implementing variational quantum algorithms](https://github.com/rmlarose/qcbq/blob/master/tutorials/04qaoa/qcbq_tutorial4b_implement_qaoa-INSTRUCTOR.ipynb), MSU-IBM Quantum computing bootcamp with Qiskit, 2019. "
   ]
  }
 ],
 "metadata": {
  "kernelspec": {
   "display_name": "rigettiVQLS",
   "language": "python",
   "name": "rigettivqls"
  },
  "language_info": {
   "codemirror_mode": {
    "name": "ipython",
    "version": 3
   },
   "file_extension": ".py",
   "mimetype": "text/x-python",
   "name": "python",
   "nbconvert_exporter": "python",
   "pygments_lexer": "ipython3",
   "version": "3.6.8"
  }
 },
 "nbformat": 4,
 "nbformat_minor": 2
}
