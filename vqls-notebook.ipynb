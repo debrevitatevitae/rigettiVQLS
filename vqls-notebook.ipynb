{
 "cells": [
  {
   "cell_type": "markdown",
   "metadata": {},
   "source": [
    "<p style=\"text-align: justify;\"> Justified text cell. </p>"
   ]
  },
  {
   "cell_type": "markdown",
   "metadata": {},
   "source": [
    "# <p style=\"text-align: center;\"> Variational Quantum Linear Solver on Rigetti QCS </p>"
   ]
  },
  {
   "cell_type": "markdown",
   "metadata": {},
   "source": [
    "<p style=\"text-align: center;\"> Ryan LaRose, Department of Computational Mathematics, Science, and Engineering, Michigan State University </p>"
   ]
  },
  {
   "cell_type": "markdown",
   "metadata": {},
   "source": [
    "<img src=\"main.png\" alt=\"Overview of VQLS\">"
   ]
  },
  {
   "cell_type": "markdown",
   "metadata": {},
   "source": [
    "### <p style=\"text-align: center;\"> Abstract </p>"
   ]
  },
  {
   "cell_type": "markdown",
   "metadata": {},
   "source": [
    "<p style=\"text-align: justify;\"> The variational quantum linear solver (VQLS) [1] is an algorithm for solving linear systems on near-term quantum computers. While VQLS does not offer performance guaruntees like other quantum linear systems algorithms [2-3], the ability to run on near-term computers makes it an interesting problem-specific benchmark. In this notebook, we provide a brief tutorial of VQLS and show results of running VQLS on Rigetti QCS for two example linear systems. </p>"
   ]
  },
  {
   "cell_type": "markdown",
   "metadata": {},
   "source": [
    "## <p style=\"text-align: center;\"> Notebook Setup </p>"
   ]
  },
  {
   "cell_type": "markdown",
   "metadata": {},
   "source": [
    "<p style=\"text-align: justify;\"> We use pyQuil to write the VQLS algorithm and send job submissions to Rigetti QCS. In the notebook, we use the Rigetti QVM for tutorial purposes. When running on the device, the code written in the notebook is converted to a script and executed on the QPU. </p>"
   ]
  },
  {
   "cell_type": "code",
   "execution_count": null,
   "metadata": {},
   "outputs": [],
   "source": [
    "\"\"\"Imports.\"\"\"\n",
    "from itertools import product\n",
    "from math import pi\n",
    "import time\n",
    "from typing import List, Tuple\n",
    "\n",
    "import matplotlib.pyplot as plt\n",
    "import networkx as nx\n",
    "import numpy as np\n",
    "from scipy.optimize import minimize\n",
    "\n",
    "import pyquil\n",
    "from pyquil import Program, get_qc\n",
    "import pyquil.gates as gates"
   ]
  },
  {
   "cell_type": "markdown",
   "metadata": {},
   "source": [
    "<p style=\"text-align: justify;\"> Here we define a few helper functions for the notebook. </p>"
   ]
  },
  {
   "cell_type": "code",
   "execution_count": null,
   "metadata": {},
   "outputs": [],
   "source": [
    "\"\"\"Helper functions and useful constants.\"\"\"\n",
    "imat = np.array([[1, 0], [0, 1]], dtype=np.complex64)\n",
    "xmat = np.array([[0, 1], [1, 0]], dtype=np.complex64)\n",
    "ymat = np.array([[0, -1j], [1j, 0]], dtype=np.complex64)\n",
    "zmat = np.array([[1, 0], [0, -1]], dtype=np.complex64)\n",
    "pauli_dict = {\"I\": imat, \"X\": xmat, \"Y\": ymat, \"Z\": zmat}\n",
    "\n",
    "\n",
    "def tensor(*matrices) -> np.ndarray:\n",
    "    \"\"\"Returns the tensor product of all matrices.\"\"\"\n",
    "    mats = list(matrices)\n",
    "    mat = mats[0]\n",
    "    if type(mat) != np.ndarray:\n",
    "        raise ValueError(\"All arguments must be numpy.ndarray's.\")\n",
    "    for term in mats[1:]:\n",
    "        mat = np.kron(mat, term)\n",
    "    return mat\n",
    "\n",
    "\n",
    "def matrix(coeffs: List[complex], terms: List[str]):\n",
    "    \"\"\"Returns the matrix defined by the coefficients and Paulis.\n",
    "    \n",
    "    Args:\n",
    "        coeffs: List of real/complex numbers specifying coefficients of Paulis.\n",
    "        terms: List of Pauli operators.\n",
    "    \"\"\"\n",
    "    if len(coeffs) != len(terms):\n",
    "        raise ValueError(\"Number of coeffs does not equal number of terms.\")\n",
    "    nqubits = len(terms[0])\n",
    "    dim = 2**nqubits\n",
    "    mat = np.zeros((dim, dim), dtype=np.complex64)\n",
    "    for (c, pauli) in zip(coeffs, terms):\n",
    "        pauli = [pauli_dict[key] for key in pauli]\n",
    "        mat += c * tensor(*pauli)\n",
    "    return mat\n",
    "\n",
    "\n",
    "def vector(coeffs: List[complex], terms: List[str]):\n",
    "    \"\"\"Returns the vector of the linear system.\n",
    "    \n",
    "    Args:\n",
    "        coeffs: Weights of B matrix.\n",
    "        terms: Pauli terms in B matrix.\n",
    "    \"\"\"\n",
    "    return matrix(coeffs, terms)[:, 0]"
   ]
  },
  {
   "cell_type": "code",
   "execution_count": null,
   "metadata": {},
   "outputs": [],
   "source": [
    "\"\"\"Unit tests.\"\"\"\n",
    "assert np.array_equal(matrix([1], [\"Y\"]), ymat)\n",
    "assert np.array_equal(vector([1], [\"Y\"]), ymat[:, 0])"
   ]
  },
  {
   "cell_type": "markdown",
   "metadata": {},
   "source": [
    "## <p style=\"text-align: center;\"> Example Linear Systems </p>"
   ]
  },
  {
   "cell_type": "markdown",
   "metadata": {},
   "source": [
    "A linear system $A \\mathbf{x} = \\mathbf{b}$ is defined by a matrix $A \\in \\mathbb{C}^{N \\times N}$ and vector $\\mathbf{b} \\in \\mathbb{C}^{N}$. Given $A$ and $\\mathbf{b}$ as input, the goal is to output $\\mathbf{x} \\in \\mathbb{C}^{N}$, or an approximate solution $\\mathbf{\\bar{x}}$ where $|| \\mathbf{\\bar{x}} - \\mathbf{x} || \\le \\delta$. "
   ]
  },
  {
   "cell_type": "markdown",
   "metadata": {},
   "source": [
    "### <p style=\"text-align: center;\"> Linear System 1 </p>"
   ]
  },
  {
   "cell_type": "markdown",
   "metadata": {},
   "source": [
    "<p style=\"text-align: justify;\"> The first linear system we consider is an example from the VQLS paper. Our motivation for this is to compare results from the paper (which used older Rigetti computers) to results we get on the new computers. The linear system is a five-qubit example given by </p>\n",
    "\n",
    "\\begin{equation}\n",
    "    A_1 = I + 0.2 X_1 + 0.2 X_1 Z_2 .\n",
    "\\end{equation}\n",
    "\n",
    "and $\\mathbf{b}_1 = H_1 H_2 H_4 H_4 |0\\rangle^{\\otimes 5}$. Here, $I, X, Y$ and $Z$ are the usual Pauli operators\n",
    "\n",
    "\\begin{equation}\n",
    "    I := \\left[ \\begin{matrix}\n",
    "    1 & 0 \\\\\n",
    "    0 & 1 \\\\\n",
    "    \\end{matrix} \\right], \\qquad \n",
    "    X := \\left[ \\begin{matrix}\n",
    "    0 & 1 \\\\\n",
    "    1 & 0 \\\\\n",
    "    \\end{matrix} \\right], \\qquad \n",
    "    Y := \\left[ \\begin{matrix}\n",
    "    0 & -i \\\\\n",
    "    i & 0 \\\\\n",
    "    \\end{matrix} \\right], \\qquad \n",
    "    Z := \\left[ \\begin{matrix}\n",
    "    1 & 0 \\\\\n",
    "    0 & -1 \\\\\n",
    "    \\end{matrix} \\right]\n",
    "\\end{equation}\n",
    "\n",
    "and subscripts indicate which qubits the Paulis act on. For example, $X_1$ means $X$ on the first qubit, i.e. $X I I I I$. Using the helper functions above, we can view the $32 \\times 32$ matrix of this linear system."
   ]
  },
  {
   "cell_type": "code",
   "execution_count": null,
   "metadata": {},
   "outputs": [],
   "source": [
    "\"\"\"View the matrix of the linear system.\"\"\"\n",
    "Acoeffs = [1., 0.2, 0.2]\n",
    "Aterms = [\"IIIII\", \"XIIII\", \"XZIII\"]\n",
    "print(\"The matrix of the linear system is:\")\n",
    "print(matrix(Acoeffs, Aterms))"
   ]
  },
  {
   "cell_type": "markdown",
   "metadata": {},
   "source": [
    "### <p style=\"text-align: center;\"> Linear System 2 </p>"
   ]
  },
  {
   "cell_type": "markdown",
   "metadata": {},
   "source": [
    "The second linear system we consider is formed from the Ising model.\n",
    "\n",
    "\\begin{equation}\n",
    "    A_2 := \\frac{1}{\\zeta} \\left(\\sum_{j=1}^{n} X_j + J \\sum_{j=1}^{n-1}Z_jZ_{j+1} + \\eta I \\right)\n",
    "\\end{equation}"
   ]
  },
  {
   "cell_type": "markdown",
   "metadata": {},
   "source": [
    "# <p style=\"text-align: center;\"> The VQLS Algorithm </p>"
   ]
  },
  {
   "cell_type": "markdown",
   "metadata": {},
   "source": [
    "### <p style=\"text-align: center;\"> Problem Setup </p>"
   ]
  },
  {
   "cell_type": "markdown",
   "metadata": {},
   "source": [
    "<p style=\"text-align: justify;\"> How can we solve these linear systems with a quantum computer? Generally we are expressing the matrix $A$ is a linear combination of unitaries</p>\n",
    "\n",
    "\\begin{equation}\n",
    "    A = \\sum_{l = 1}^{L} c_l A_l\n",
    "\\end{equation}\n",
    "\n",
    "<p style=\"text-align: justify;\"> where $c_l \\in \\mathbb{C}$. The vector $|\\mathbf{b}\\rangle$ is assumed to have some unitary $B$ which prepares it from the ground state, i.e. $B|0\\rangle = |\\mathbf{b}\\rangle$. We want to prepare a state </p>\n",
    "\n",
    "\\begin{equation}\n",
    "    |\\mathbf{\\theta}\\rangle := V(\\mathbf{\\theta}) |0\\rangle \n",
    "\\end{equation}\n",
    "\n",
    "<p style=\"text-align: justify;\"> which has high fidelity $| \\langle \\theta | x \\rangle |^2$ with the solution $|x\\rangle$ of the linear system $A |\\mathbf{x}\\rangle = |\\mathbf{b}\\rangle $. Equivalenlty, we want a state $|\\theta\\rangle$ such that $A |\\theta\\rangle$ is close to $|\\mathbf{b}\\rangle$. That is, we want to maximize the quantity\n",
    "\n",
    "\\begin{equation}\n",
    "    \\langle \\mathbf{b} | A |\\theta\\rangle = \\langle 0 | B^\\dagger A V(\\theta) |0\\rangle = \\sum_{l = 1}^{L} c_l \\langle 0 | B^\\dagger A_l V(\\theta) |0\\rangle .\n",
    "\\end{equation}\n",
    "\n",
    "By maximizing the fidelity $|\\langle \\mathbf{b} | A |\\theta\\rangle|^2$, which involves computing individual overlap terms via Hadamard tests or Hadamard-like tests [1], one can obtain an approximate solution to the linear system. "
   ]
  },
  {
   "cell_type": "markdown",
   "metadata": {},
   "source": [
    "### <p style=\"text-align: center;\"> The Effective Hamiltonian Approach </p>"
   ]
  },
  {
   "cell_type": "markdown",
   "metadata": {},
   "source": [
    "An interesting connection to other linear systems work [4] is to note that the above prescription is equivalent to minimizing the energy of an effective Hamiltonian\n",
    "\n",
    "\\begin{equation}\n",
    "    H_{A, \\mathbf{b}} \\equiv H := A^\\dagger ( I - |\\mathbf{b}\\rangle \\langle \\mathbf{b} | ) A\n",
    "\\end{equation}\n",
    "\n",
    "<p style=\"text-align: justify;\">\n",
    "This can be seen by noting that $H$ is positive semidefinite and $H |\\mathbf{x}\\rangle = 0$. Thus, by minimizing $\\langle \\theta | H |\\theta \\rangle$, we can get an approximate solution to the linear system. A key advantage of this approach is the ability to compute expectation values in a hardware efficient manner. (That is, not using controlled gates required by the Hadamard test but instead using classical post-processing [5-7].) We use this effective Hamiltonian approach in our simulations below.\n",
    "</p>\n",
    "\n",
    "Noting that $H = A^\\dagger A - A^\\dagger P_{\\mathbf{b}} A$ where $P_{\\mathbf{b}} := |\\mathbf{b}\\rangle \\langle \\mathbf{b} |$ is the projector onto the $|\\mathbf{b}\\rangle$ state, we have two terms to evaluate. For the first, one can show that\n",
    "\n",
    "\\begin{equation}\n",
    "    A^\\dagger A = \\sum_{l = 1}^{L} |a_l|^2 I + 2 \\sum_{1 = l < k}^{L - 1} \\text{Re} \\, [a_l^* a_k ] A_l A_k .\n",
    "\\end{equation}\n",
    "\n",
    "The expectation of the first summation can be computed classically, while the second requires $L (L - 1) / 2 = )(L^2)$ circuit evaluations. \n",
    "\n",
    "For the second term in the Hamiltonian $H$, one can show that\n",
    "\n",
    "\\begin{equation}\n",
    "    A^\\dagger P_{\\mathbf{b}} A = \\sum_{k = 1}^{L} \\sum_{l = 1}^{L} a_k^* a_l b_m A_k P_\\mathbf{b} A_l .\n",
    "\\end{equation}\n",
    "\n",
    "Assuming $B = \\sum_{m = 1}^{M} b_m B_m$, the projector $P_\\mathbf{b} = B|0\\rangle \\langle 0 | B^\\dagger$ can be expanded as a linear combination of unitaries as well. Note that $|0\\rangle\\langle0| = (I + Z) / 2$. This term requires $O(L^2)$ circuit evaluations as well."
   ]
  },
  {
   "cell_type": "code",
   "execution_count": null,
   "metadata": {},
   "outputs": [],
   "source": [
    "def mult(a: str, b: str) -> Tuple[complex, str]:\n",
    "    \"\"\"Returns product a times b of two single qubit Paulis.\"\"\"\n",
    "    if a not in (\"I\", \"X\", \"Y\", \"Z\") or b not in (\"I\", \"X\", \"Y\", \"Z\"):\n",
    "        raise ValueError(\"One or more invalid Pauli keys.\")\n",
    "        \n",
    "    prod = {\"XY\": \"Z\",\n",
    "            \"YZ\": \"X\",\n",
    "            \"ZX\": \"Y\"}\n",
    "\n",
    "    if a == \"I\":\n",
    "        return (1., b)\n",
    "    if b == \"I\":\n",
    "        return (1., a)\n",
    "    if a == b:\n",
    "        return (1., \"I\")\n",
    "    \n",
    "    phase = 1j\n",
    "    new = a + b\n",
    "    if new in prod.keys():\n",
    "        return (phase, prod[new])\n",
    "    else:\n",
    "        return (-phase, prod[b + a])\n",
    "    \n",
    "\n",
    "def multn(a: str, b: str) -> Tuple[complex, str]:\n",
    "    \"\"\"Returns product a times b of two n qubit Paulis.\"\"\"\n",
    "    if len(a) != len(b):\n",
    "        raise ValueError(\"len(a) != len(b)\")\n",
    "    phase = 1\n",
    "    paulis = []\n",
    "    for (aterm, bterm) in zip(a, b):\n",
    "        p, pauli = mult(aterm, bterm)\n",
    "        phase *= p\n",
    "        paulis.append(pauli)\n",
    "    return phase, \"\".join(paulis)"
   ]
  },
  {
   "cell_type": "code",
   "execution_count": null,
   "metadata": {},
   "outputs": [],
   "source": [
    "\"\"\"Unit tests for Pauli multiplication.\"\"\"\n",
    "# =================================\n",
    "# Single qubit Pauli multiplication\n",
    "# =================================\n",
    "\n",
    "paulis = (\"I\", \"X\", \"Y\", \"Z\")\n",
    "# Check multiplication with identity and squared terms\n",
    "for p in paulis:\n",
    "    assert mult(\"I\", p) == (1., p)\n",
    "    assert mult(p, \"I\") == (1., p)\n",
    "    assert mult(p, p) == (1., \"I\")\n",
    "\n",
    "# Check \"cross terms\"\n",
    "assert mult(\"X\", \"Y\") == (1j, \"Z\")\n",
    "assert mult(\"Y\", \"X\") == (-1j, \"Z\")\n",
    "assert mult(\"X\", \"Z\") == (-1j, \"Y\")\n",
    "assert mult(\"Z\", \"X\") == (1j, \"Y\")\n",
    "assert mult(\"Y\", \"Z\") == (1j, \"X\")\n",
    "assert mult(\"Z\", \"Y\") == (-1j, \"X\")\n",
    "\n",
    "# ================================\n",
    "# Multi-qubit Pauli multiplication\n",
    "# ================================\n",
    "\n",
    "assert multn(\"IXY\", \"ZYY\") == (1j, \"ZZI\")\n",
    "assert multn(\"IIIIII\", \"XYZXYZ\") == (1., \"XYZXYZ\")\n",
    "assert multn(\"YY\", \"ZI\") == (1j, \"XY\")\n",
    "assert multn(\"XZ\", \"ZX\") == (1 + 0j, \"YY\")"
   ]
  },
  {
   "cell_type": "code",
   "execution_count": null,
   "metadata": {},
   "outputs": [],
   "source": [
    "def Pb_expansion(Bcoeffs: List[complex], Bterms: List[str]) -> List[Tuple[complex, str]]:\n",
    "    \"\"\"Inputs B as a linear combination of unitaries and \n",
    "    outputs B|0><0|B^\\dagger as a linear combination of unitaries.\n",
    "    \"\"\"\n",
    "    if len(Bcoeffs) != len(Bterms):\n",
    "        raise ValueError(\"len(Bcoeffs) != len(Bterms)\")\n",
    "    n = len(Bterms[0])\n",
    "    \n",
    "    # Form the |0><0| projector on n qubits\n",
    "    terms = [[\"I\", \"Z\"]] * n\n",
    "    prod = list(product(*terms))\n",
    "    Pterms = [\"\".join(p) for p in prod]\n",
    "    \n",
    "    coeffs = []\n",
    "    paulis = []\n",
    "    \n",
    "    for ii in range(len(Bterms)):\n",
    "        for jj in range(len(Pterms)):\n",
    "            for kk in range(len(Bterms)):\n",
    "                coeff = Bcoeffs[ii] * np.conj(Bcoeffs[kk]) / 2**n\n",
    "                phase1, pauli1 = multn(Bterms[ii], Pterms[jj])\n",
    "                phase2, pauli = multn(pauli1, Bterms[kk])\n",
    "                \n",
    "                coeffs.append(coeff * phase1 * phase2)\n",
    "                paulis.append(pauli)\n",
    "    return coeffs, paulis"
   ]
  },
  {
   "cell_type": "code",
   "execution_count": null,
   "metadata": {
    "scrolled": true
   },
   "outputs": [],
   "source": [
    "\"\"\"Unit tests for Bexpansion function.\"\"\"\n",
    "def test_Pbexpansion(Bcoeffs, Bterms, verbose=False):\n",
    "    \"\"\"Tests matrix equality for Pauli expansion of Pb = B|0><0|B^\\dagger.\"\"\"\n",
    "    Pbcoeffs, Pbpaulis = Pb_expansion(Bcoeffs, Bterms)\n",
    "\n",
    "    if verbose:\n",
    "        print(\"Found Pauli expansion of Pb:\")\n",
    "        print(Pbcoeffs)\n",
    "        print(Pbpaulis)\n",
    "\n",
    "    # Determine the bvector\n",
    "    bvec = vector(Bcoeffs, Bterms)\n",
    "    if verbose:\n",
    "        print(\"\\nbvec computed from Bcoeffs and Bterms:\")\n",
    "        print(bvec)\n",
    "\n",
    "    Pbmat = matrix(Pbcoeffs, Pbpaulis)\n",
    "    if verbose:\n",
    "        print(\"\\nComputed Pb:\")\n",
    "        print(Pbmat)\n",
    "        print(\"\\nActual Pb = |b><b|:\")\n",
    "        print(np.outer(bvec, bvec.conj()))\n",
    "\n",
    "    assert np.array_equal(Pbmat, np.outer(bvec, bvec.conj()))\n",
    "\n",
    "\n",
    "# Single qubit with one term tests\n",
    "test_Pbexpansion([1], [\"I\"])\n",
    "test_Pbexpansion([1], [\"X\"])\n",
    "test_Pbexpansion([1], [\"Y\"])\n",
    "test_Pbexpansion([1], [\"Z\"])\n",
    "\n",
    "# Single qubit with multiple term tests\n",
    "test_Pbexpansion([1, 2], [\"I\", \"X\"])\n",
    "test_Pbexpansion([1, 1, 3], [\"I\", \"X\", \"Y\"])\n",
    "\n",
    "# Multi-qubit with multiple term tests\n",
    "test_Pbexpansion([1, 1], [\"XZ\", \"XZ\"])\n",
    "test_Pbexpansion([2, 3, 1], [\"IIZ\", \"ZXY\", \"YYX\"])"
   ]
  },
  {
   "cell_type": "code",
   "execution_count": null,
   "metadata": {
    "scrolled": true
   },
   "outputs": [],
   "source": [
    "\"\"\"Functions to attempt to minimize the number of terms in the Pauli expansion of the Hamiltonian.\"\"\"\n",
    "def combine_paulis(hamiltonian: List[Tuple[complex, str]]) -> List[Tuple[complex, str]]:\n",
    "    \"\"\"Combines identical Pauli terms in the Hamiltonian, if possible.\"\"\"\n",
    "    new = [list(hamiltonian[0])]\n",
    "    seen_paulis = [new[0][1]]\n",
    "\n",
    "    for (coeff, pauli) in hamiltonian[1:]:\n",
    "        if pauli in seen_paulis:\n",
    "            # Find the index of where the Pauli is in new\n",
    "            index = seen_paulis.index(pauli)\n",
    "            new[index][0] += coeff\n",
    "        else:\n",
    "            new.append(list((coeff, pauli)))\n",
    "            seen_paulis.append(pauli)\n",
    "\n",
    "    return new\n",
    "\n",
    "\n",
    "def drop_zero(hamiltonian: List[Tuple[complex, str]]) -> List[Tuple[complex, str]]:\n",
    "    \"\"\"Drops Pauli terms with zero weight.\"\"\"\n",
    "    new = []\n",
    "    for (coeff, pauli) in hamiltonian:\n",
    "        if not np.isclose(abs(coeff), 0.0):\n",
    "            new.append([coeff, pauli])\n",
    "    return new"
   ]
  },
  {
   "cell_type": "code",
   "execution_count": null,
   "metadata": {},
   "outputs": [],
   "source": [
    "\"\"\"Unit tests for combine Paulis.\"\"\"\n",
    "# Test 1\n",
    "ham = [(1j, \"XY\"), (-1j, \"XY\")]\n",
    "assert drop_zero(combine_paulis(ham)) == []\n",
    "\n",
    "# Test 2\n",
    "ham = [(1.0, 'II'), (1j, 'XY'), (-1j, 'XY'), (1.0, 'II')]\n",
    "assert drop_zero(combine_paulis(ham)) == [[2.0, \"II\"]]\n",
    "\n",
    "# Test 3\n",
    "ham = [[2.0, 'II'], [-0.25, 'II'], [-0.25, 'IZ'], [-0.25, 'ZI'], \n",
    "       [-0.25, 'ZZ'], [-0.25j, 'XY'], [-0.25, 'XX'], [(0.25+0j), 'YY'], \n",
    "       [-0.25j, 'YX'], [0.25j, 'XY'], [(-0.25+0j), 'XX'], [(0.25+0j), 'YY'], \n",
    "       [0.25j, 'YX'], [-0.25, 'II'], [(0.25+0j), 'IZ'], [(0.25+0j), 'ZI'],\n",
    "       [(-0.25+0j), 'ZZ']]\n",
    "assert drop_zero(combine_paulis(ham)) == [[1.5, 'II'], [(-0.5+0j), 'ZZ'], [(-0.5+0j), 'XX'], [(0.5+0j), 'YY']]"
   ]
  },
  {
   "cell_type": "code",
   "execution_count": null,
   "metadata": {},
   "outputs": [],
   "source": [
    "\"\"\"Function which inputs A, b and outputs terms of the effective Hamiltonian.\"\"\"\n",
    "def effective_hamiltonian(Acoeffs: List[complex], \n",
    "                          Aterms: List[str], \n",
    "                          Bcoeffs: List[complex],\n",
    "                          Bterms: List[str]) -> Tuple[List[complex], List[str]]:\n",
    "    \"\"\"Returns the effective Hamiltonian of an input linear system Ax = B|0>.\n",
    "    \n",
    "    Args:\n",
    "        Acoeffs: List of coefficients of A matrix.\n",
    "        Aterms: Pauli strings for each coefficient of A matrix.\n",
    "        Bcoeffs: List of coefficients of B matrix.\n",
    "        Bterms: Pauli strings for each coefficient of B matrix.\n",
    "    \"\"\"\n",
    "    # Input checks\n",
    "    if len(Acoeffs) != len(Aterms):\n",
    "        raise ValueError(\"len(Acoeffs) != len(Aterms)\")\n",
    "    if len(Bcoeffs) != len(Bterms):\n",
    "        raise ValueError(\"len(Bceoffs) != len(Bterms)\")\n",
    "\n",
    "    if not np.isclose(np.linalg.norm(vector(Bcoeffs, Bterms)), 1.0):\n",
    "        raise ValueError(\"The bvector must have unit norm.\")\n",
    "\n",
    "    # Initialize the Hamiltonian as a List[Tuple[complex, str]]\n",
    "    ham = []\n",
    "    n = len(Aterms[0])\n",
    "    \n",
    "    # =======================================\n",
    "    # First term in Hamiltonian (A^\\dagger A)\n",
    "    # =======================================\n",
    "\n",
    "    for l in range(len(Aterms)):\n",
    "        for k in range(len(Aterms)):\n",
    "            coeff = np.conj(Acoeffs[l]) * Acoeffs[k]\n",
    "            phase, pauli = multn(Aterms[l], Aterms[k])\n",
    "            ham.append(list((coeff * phase, pauli)))\n",
    "    \n",
    "    ham = drop_zero(combine_paulis(ham))\n",
    "    \n",
    "    # ============================================\n",
    "    # Second term in Hamiltonian (A^\\dagger P_b A)\n",
    "    # ============================================\n",
    "    \n",
    "    # Get the Pb expansion\n",
    "    Pbcoeffs, Pbterms = Pb_expansion(Bcoeffs, Bterms)\n",
    "    \n",
    "    for k in range(len(Aterms)):\n",
    "        for l in range(len(Aterms)):\n",
    "            for m in range(len(Pbterms)):\n",
    "                # Compute this coefficient and term\n",
    "                coeff = np.conj(Acoeffs[k]) * Acoeffs[l] * Pbcoeffs[m]\n",
    "                phase1, pauli1 = multn(Aterms[k], Pbterms[m])\n",
    "                phase2, pauli = multn(pauli1, Aterms[l])\n",
    "                \n",
    "                # Append it to the expansion\n",
    "                ham.append(list((-1 * phase1 * phase2 * coeff, pauli)))\n",
    "    \n",
    "    return drop_zero(combine_paulis(ham))\n",
    "\n",
    "\n",
    "def matrix_of_hamiltonian(ham: List[Tuple[complex, str]]) -> np.ndarray:\n",
    "    \"\"\"Returns a matrix representation of the Hamiltonian in the standard basis.\"\"\"\n",
    "    coeffs = []\n",
    "    paulis = []\n",
    "    for (coeff, pauli) in ham:\n",
    "        coeffs.append(coeff)\n",
    "        paulis.append(pauli)\n",
    "    mat = matrix(coeffs, paulis)\n",
    "    return mat"
   ]
  },
  {
   "cell_type": "code",
   "execution_count": null,
   "metadata": {
    "scrolled": false
   },
   "outputs": [],
   "source": [
    "\"\"\"Unit tests for effective hamiltonian function.\"\"\"\n",
    "def test_effective_hamiltonian(Acoeffs, Aterms, Amat_correct, \n",
    "                               Bcoeffs, Bterms, bvec_correct,\n",
    "                               verbose = False):\n",
    "    \"\"\"Checks matrix equality for the effective Hamiltonian expansion.\n",
    "    Ensures minimum evalue of effective Hamiltonian is 0 and\n",
    "    corresponding evector is the solution to the linear system.\"\"\"\n",
    "    # Get the effective Hamiltonian\n",
    "    ham = effective_hamiltonian(Acoeffs, Aterms, Bcoeffs, Bterms)\n",
    "\n",
    "    # Get the matrix and vector of the linear system, and solve it\n",
    "    Amat = matrix(Acoeffs, Aterms)\n",
    "    assert np.array_equal(Amat, Amat_correct)\n",
    "    bvec = vector(Bcoeffs, Bterms)\n",
    "    if verbose:\n",
    "        print(\"Computed bvec:\")\n",
    "        print(bvec)\n",
    "    assert np.array_equal(bvec, bvec_correct)\n",
    "    xvec = np.linalg.solve(Amat, bvec)\n",
    "    xvec /= np.linalg.norm(xvec)\n",
    "    \n",
    "    if verbose:\n",
    "        print(\"\\nEffective Hamiltonian expansion:\")\n",
    "        print(ham)\n",
    "\n",
    "    # Get the matrix of the Hamiltonian\n",
    "    Heff = matrix_of_hamiltonian(ham)\n",
    "\n",
    "    # Check correctness of the effective Hamiltonian\n",
    "    Hexact = (Amat_correct.conj().T @ \n",
    "              (np.identity(len(Amat)) - np.outer(bvec_correct, bvec_correct.conj())) @ \n",
    "              Amat_correct)\n",
    "    if verbose:\n",
    "        print(\"\\nExact Heff:\")\n",
    "        print(Hexact)\n",
    "        print(\"\\nComputed Heff:\")\n",
    "        print(Heff)\n",
    "    assert np.allclose(Heff, Hexact)\n",
    "    assert np.allclose(Heff, Heff.conj().T)\n",
    "    if verbose:\n",
    "        print(\"Heff @ xvec:\")\n",
    "        print(Heff @ xvec)\n",
    "        print(\"||Heff @ xvec|| = \", np.linalg.norm(Heff @ xvec))\n",
    "    assert np.isclose(np.linalg.norm(Heff @ xvec), 0.0, atol=1e-5)\n",
    "\n",
    "    # Do the diagonalization\n",
    "    evals, evecs = np.linalg.eigh(Heff)\n",
    "    if verbose:\n",
    "        print(\"Min eval:\")\n",
    "        print(evals[0])\n",
    "        print(\"Evec of minimum eval:\")\n",
    "        print(evecs[:, 0])\n",
    "        print(\"Solution of linear system:\")\n",
    "        print(xvec)\n",
    "    assert np.isclose(evals[0], 0.0, atol=1e-5)\n",
    "    assert np.isclose(abs(np.dot(evecs[:, 0], xvec.conj().T))**2, 1.0)\n",
    "\n",
    "# =======================\n",
    "# Tests with A = Identity\n",
    "# =======================\n",
    "\n",
    "# Test 1\n",
    "Bcoeffs = [1 / 2] * 4\n",
    "Bterms = [\"II\", \"IX\", \"XI\", \"XX\"]\n",
    "bvec_correct = np.ones(4) / 2\n",
    "Acoeffs = [1]\n",
    "Aterms = [\"II\"]\n",
    "Amat_correct = np.identity(4)\n",
    "test_effective_hamiltonian(Acoeffs, Aterms, Amat_correct,\n",
    "                           Bcoeffs, Bterms, bvec_correct)\n",
    "\n",
    "# Test 2\n",
    "Bcoeffs = [1 / 4] * 4\n",
    "Bterms = [\"II\", \"IZ\", \"ZI\", \"ZZ\"]\n",
    "bvec_correct = np.array([1, 0, 0, 0])\n",
    "Acoeffs = [1]\n",
    "Aterms = [\"II\"]\n",
    "Amat_correct = np.identity(4)\n",
    "test_effective_hamiltonian(Acoeffs, Aterms, Amat_correct,\n",
    "                           Bcoeffs, Bterms, bvec_correct)\n",
    "\n",
    "# Test 3\n",
    "Bcoeffs = [1 / np.sqrt(2), 1 / np.sqrt(2)]\n",
    "Bterms = [\"II\", \"XY\"]\n",
    "bvec_correct = vector(Bcoeffs, Bterms)\n",
    "Acoeffs = [1]\n",
    "Aterms = [\"II\"]\n",
    "Amat_correct = np.identity(4)\n",
    "test_effective_hamiltonian(Acoeffs, Aterms, Amat_correct,\n",
    "                           Bcoeffs, Bterms, bvec_correct)\n",
    "\n",
    "# Test 4\n",
    "Bcoeffs = [1 / np.sqrt(2), 1 / np.sqrt(2)]\n",
    "Bterms = [\"III\", \"XYZ\"]\n",
    "bvec_correct = vector(Bcoeffs, Bterms)\n",
    "Acoeffs = [1]\n",
    "Aterms = [\"III\"]\n",
    "Amat_correct = np.identity(8)\n",
    "test_effective_hamiltonian(Acoeffs, Aterms, Amat_correct,\n",
    "                           Bcoeffs, Bterms, bvec_correct)\n",
    "\n",
    "# ========================\n",
    "# Tests with A != Identity\n",
    "# ========================\n",
    "\n",
    "# Test 5\n",
    "Bcoeffs = [1 / 2] * 4\n",
    "Bterms = [\"II\", \"IX\", \"XI\", \"XX\"]\n",
    "bvec_correct = np.ones(4) / 2\n",
    "Acoeffs = [1]\n",
    "Aterms = [\"IZ\"]\n",
    "Amat_correct = matrix(Acoeffs, Aterms)\n",
    "test_effective_hamiltonian(Acoeffs, Aterms, Amat_correct,\n",
    "                           Bcoeffs, Bterms, bvec_correct)\n",
    "\n",
    "# Test 6\n",
    "Bcoeffs = [1]\n",
    "Bterms = [\"II\"]\n",
    "bvec_correct = vector(Bcoeffs, Bterms)\n",
    "Acoeffs = [1, 1]\n",
    "Aterms = [\"IZ\", \"XX\"]\n",
    "Amat_correct = matrix(Acoeffs, Aterms)\n",
    "test_effective_hamiltonian(Acoeffs, Aterms, Amat_correct,\n",
    "                           Bcoeffs, Bterms, bvec_correct)\n",
    "\n",
    "# Test 7\n",
    "Bcoeffs = [1]\n",
    "Bterms = [\"ZY\"]\n",
    "bvec_correct = vector(Bcoeffs, Bterms)\n",
    "Acoeffs = [1, 1]\n",
    "Aterms = [\"IZ\", \"XX\"]\n",
    "Amat_correct = matrix(Acoeffs, Aterms)\n",
    "test_effective_hamiltonian(Acoeffs, Aterms, Amat_correct,\n",
    "                           Bcoeffs, Bterms, bvec_correct)\n",
    "\n",
    "# ===========================\n",
    "# Test example linear systems\n",
    "# ===========================\n",
    "\n",
    "# Test 8: Three qubit example from VQLS paper\n",
    "Bcoeffs = [1 / 2**(3/2)] * 8\n",
    "Bterms = [\"XXX\", \"XXZ\", \"XZX\", \"XZZ\", \"ZXX\", \"ZXZ\", \"ZZX\", \"ZZZ\"]\n",
    "bvec_correct = vector(Bcoeffs, Bterms)\n",
    "Acoeffs = [1, 0.2, 0.2]\n",
    "Aterms = [\"III\", \"XII\", \"XZI\"]\n",
    "Amat_correct = matrix(Acoeffs, Aterms)\n",
    "test_effective_hamiltonian(Acoeffs, Aterms, Amat_correct,\n",
    "                           Bcoeffs, Bterms, bvec_correct)\n",
    "\n",
    "# Test 9: Five qubit example from VQLS paper\n",
    "Bcoeffs = [1 / 2**(5/2)] * 32\n",
    "paulis = [[\"X\", \"Z\"]] * 5\n",
    "prods = list(product(*paulis))\n",
    "Bterms = [\"\".join(p) for p in prods]\n",
    "bvec_correct = vector(Bcoeffs, Bterms)\n",
    "Acoeffs = [1, 0.2, 0.2]\n",
    "Aterms = [\"IIIII\", \"XIIII\", \"XZIII\"]\n",
    "Amat_correct = matrix(Acoeffs, Aterms)\n",
    "test_effective_hamiltonian(Acoeffs, Aterms, Amat_correct,\n",
    "                           Bcoeffs, Bterms, bvec_correct)"
   ]
  },
  {
   "cell_type": "markdown",
   "metadata": {},
   "source": [
    "# <p style=\"text-align: center;\"> Linear System 1 </p>"
   ]
  },
  {
   "cell_type": "markdown",
   "metadata": {},
   "source": [
    "Below we examine the number of terms in the effective Hamiltonian for the first example linear system."
   ]
  },
  {
   "cell_type": "code",
   "execution_count": null,
   "metadata": {
    "scrolled": true
   },
   "outputs": [],
   "source": [
    "\"\"\"Terms in effective Hamiltonian for first linear system.\"\"\"\n",
    "n = 5\n",
    "Bcoeffs = [1 / 2**(n / 2)] * 2**n\n",
    "paulis = [[\"X\", \"Z\"]] * n\n",
    "prods = list(product(*paulis))\n",
    "Bterms = [\"\".join(p) for p in prods]\n",
    "Acoeffs = [1, 0.2, 0.2]\n",
    "Aterms = [\"IIIII\", \"XIIII\", \"XZIII\"]\n",
    "\n",
    "ham = effective_hamiltonian(Acoeffs, Aterms, Bcoeffs, Bterms)\n",
    "\n",
    "print(\"Number of terms:\", len(ham))\n",
    "print(*ham, sep=\"\\n\")"
   ]
  },
  {
   "cell_type": "markdown",
   "metadata": {},
   "source": [
    "#### TODO: Utilize simultaneous measurements"
   ]
  },
  {
   "cell_type": "markdown",
   "metadata": {},
   "source": [
    "We can compute the expectation of this effective Hamiltonian "
   ]
  },
  {
   "cell_type": "code",
   "execution_count": null,
   "metadata": {},
   "outputs": [],
   "source": [
    "\"\"\"Parameters/constants.\"\"\"\n",
    "# Computer to run on\n",
    "qcomputer = \"Aspen-7-5Q-B\"  # Five qubit lattice for first linear system\n",
    "# qcomputer = \"Aspen-7-3Q-B\"  # Three qubit lattice for testing optimizer\n",
    "lattice5q = get_qc(qcomputer, as_qvm=True)  # Change to as_qvm=False to run on QC. Must have reservation."
   ]
  },
  {
   "cell_type": "code",
   "execution_count": null,
   "metadata": {
    "scrolled": true
   },
   "outputs": [],
   "source": [
    "\"\"\"Visualize the qubit connectivity.\"\"\"\n",
    "graph = lattice5q.qubit_topology()\n",
    "nx.draw(graph)"
   ]
  },
  {
   "cell_type": "markdown",
   "metadata": {},
   "source": [
    "## <p style=\"text-align: center;\"> Variational Ansatz </p>"
   ]
  },
  {
   "cell_type": "code",
   "execution_count": null,
   "metadata": {},
   "outputs": [],
   "source": [
    "\"\"\"Define an ansatz circuit.\"\"\"\n",
    "def yansatz(computer):\n",
    "    \"\"\"Returns a circuit with a product state ansatz.\"\"\"\n",
    "    n = len(computer.qubits())\n",
    "    # Get a circuit and classical memory register\n",
    "    circ = Program()\n",
    "    creg = circ.declare(\"ro\", memory_type=\"BIT\", memory_size=n)\n",
    "\n",
    "    # Define parameters for the ansatz\n",
    "    angles = circ.declare(\"theta\", memory_type=\"REAL\", memory_size=n)\n",
    "\n",
    "    # Add the ansatz\n",
    "    circ += [gates.RY(angles[ii], computer.qubits()[ii]) for ii in range(n)]\n",
    "    \n",
    "    return circ, creg"
   ]
  },
  {
   "cell_type": "code",
   "execution_count": null,
   "metadata": {},
   "outputs": [],
   "source": [
    "def yansatzCZ(computer):\n",
    "    \"\"\"Returns a Ry ansatz with some entanglement.\"\"\"\n",
    "    # Grab the qubits\n",
    "    qubits = tuple(computer.qubits())\n",
    "    n = len(qubits)\n",
    "    \n",
    "    # Get a circuit and classical memory register\n",
    "    circ = Program()\n",
    "    creg = circ.declare(\"ro\", memory_type=\"BIT\", memory_size=n)\n",
    "\n",
    "    # Define parameters for the ansatz\n",
    "    angles = circ.declare(\"theta\", memory_type=\"REAL\", memory_size=n)\n",
    "\n",
    "    # Add the ansatz\n",
    "    circ += [gates.RY(angles[ii], qubits[ii]) for ii in range(n)]\n",
    "    circ += [gates.CZ(qubits[ii], qubits[ii + 1]) for ii in range(n - 1)]\n",
    "    \n",
    "    return circ, creg"
   ]
  },
  {
   "cell_type": "code",
   "execution_count": 1,
   "metadata": {
    "scrolled": true
   },
   "outputs": [
    {
     "ename": "NameError",
     "evalue": "name 'yansatzCZ' is not defined",
     "output_type": "error",
     "traceback": [
      "\u001b[0;31m---------------------------------------------------------------------------\u001b[0m",
      "\u001b[0;31mNameError\u001b[0m                                 Traceback (most recent call last)",
      "\u001b[0;32m<ipython-input-1-69550de744d6>\u001b[0m in \u001b[0;36m<module>\u001b[0;34m()\u001b[0m\n\u001b[1;32m      1\u001b[0m \u001b[0;34m\"\"\"Get an ansatz.\"\"\"\u001b[0m\u001b[0;34m\u001b[0m\u001b[0;34m\u001b[0m\u001b[0m\n\u001b[0;32m----> 2\u001b[0;31m \u001b[0mcirc\u001b[0m\u001b[0;34m,\u001b[0m \u001b[0mcreg\u001b[0m \u001b[0;34m=\u001b[0m \u001b[0myansatzCZ\u001b[0m\u001b[0;34m(\u001b[0m\u001b[0mlattice5q\u001b[0m\u001b[0;34m)\u001b[0m\u001b[0;34m\u001b[0m\u001b[0;34m\u001b[0m\u001b[0m\n\u001b[0m\u001b[1;32m      3\u001b[0m \u001b[0mprint\u001b[0m\u001b[0;34m(\u001b[0m\u001b[0mcirc\u001b[0m\u001b[0;34m)\u001b[0m\u001b[0;34m\u001b[0m\u001b[0;34m\u001b[0m\u001b[0m\n",
      "\u001b[0;31mNameError\u001b[0m: name 'yansatzCZ' is not defined"
     ]
    }
   ],
   "source": [
    "\"\"\"Get an ansatz.\"\"\"\n",
    "circ, creg = yansatzCZ(lattice5q)\n",
    "print(circ)"
   ]
  },
  {
   "cell_type": "code",
   "execution_count": null,
   "metadata": {},
   "outputs": [],
   "source": [
    "def expectation(angles: List[float], coeff: complex, pauli: str,\n",
    "                ansatz, computer, shots: int = 10000,\n",
    "                verbose: bool = False) -> float:\n",
    "    \"\"\"Returns coeff * <\\theta| paulii |\\theta>.\n",
    "    \n",
    "    Args:\n",
    "        angles\n",
    "        coeff:\n",
    "        pauli:\n",
    "        ansatz:\n",
    "        computer:\n",
    "        shots:\n",
    "        verbose: \n",
    "    \"\"\"\n",
    "    if np.isclose(np.imag(coeff), 0.0):\n",
    "        coeff = np.real(coeff)\n",
    "\n",
    "    if set(pauli) == {\"I\"}:\n",
    "        return coeff\n",
    "    \n",
    "    # Set up the circuit\n",
    "    circuit = ansatz.copy()\n",
    "    qubits = computer.qubits()\n",
    "    measured = []\n",
    "    for (q, p) in enumerate(pauli):\n",
    "        if p == \"X\":\n",
    "            circuit += [gates.H(qubits[q]), gates.MEASURE(qubits[q], creg[q])]\n",
    "            measured.append(qubits[q])\n",
    "        elif p == \"Y\":\n",
    "            circuit += [gates.S(qubits[q]), gates.H(qubits[q]), gates.MEASURE(qubits[q], creg[q])]\n",
    "            measured.append(qubits[q])\n",
    "        elif p == \"Z\":\n",
    "            circuit += [gates.MEASURE(qubits[q], creg[q])]\n",
    "            measured.append(qubits[q])\n",
    "    \n",
    "    # Run the circuit\n",
    "    circuit.wrap_in_numshots_loop(shots)\n",
    "    \n",
    "    if verbose:\n",
    "        print(f\"Computing {coeff} x <theta|{pauli}|theta>...\")\n",
    "        print(\"\\nCircuit to be executed:\")\n",
    "        print(circuit)\n",
    "    \n",
    "    # Execute the circuit\n",
    "    executable = computer.compile(circuit)\n",
    "    res = computer.run(executable, memory_map={\"theta\": angles})\n",
    "    \n",
    "    if verbose:\n",
    "        print(\"\\nResults:\")\n",
    "        print(f\"{len(res)} total measured bit strings.\")\n",
    "        print(res)\n",
    "    \n",
    "    # Do the postprocessing\n",
    "    tot = 0.0\n",
    "    for vals in res:\n",
    "        tot += (-1)**sum(vals)\n",
    "    return coeff * tot / shots"
   ]
  },
  {
   "cell_type": "code",
   "execution_count": null,
   "metadata": {
    "scrolled": false
   },
   "outputs": [],
   "source": [
    "\"\"\"Unit tests for expectation.\"\"\"\n",
    "expectation([0] * n, 1, \"ZZZII\", circ, lattice5q, shots=10000, verbose=True)"
   ]
  },
  {
   "cell_type": "code",
   "execution_count": null,
   "metadata": {},
   "outputs": [],
   "source": [
    "def energy(angles, hamiltonian, ansatz, computer, shots=10000, verbose=False):\n",
    "    \"\"\"Returns <theta|H|theta>.\n",
    "    \n",
    "    Args:\n",
    "        angles:\n",
    "        ham:\n",
    "        ansatz:\n",
    "        computer:\n",
    "        shots:\n",
    "        verbose:\n",
    "    \"\"\"\n",
    "    value = 0.0\n",
    "    for (coeff, pauli) in hamiltonian:\n",
    "        value += expectation(angles, coeff, pauli, ansatz, computer, shots, verbose)\n",
    "    return value"
   ]
  },
  {
   "cell_type": "code",
   "execution_count": null,
   "metadata": {},
   "outputs": [],
   "source": [
    "\"\"\"Unit tests for energy.\"\"\"\n",
    "energy([0] * n, ham, circ, lattice5q, shots=10000, verbose=False)"
   ]
  },
  {
   "cell_type": "code",
   "execution_count": null,
   "metadata": {},
   "outputs": [],
   "source": [
    "\"\"\"Cost function for linear system 1.\"\"\"\n",
    "def costLS1(angles):\n",
    "    val = energy(angles, ham, circ, lattice5q, shots=10000)\n",
    "    print(\"Current angles:\", angles)\n",
    "    print(\"Current energy:\", val)\n",
    "    return val"
   ]
  },
  {
   "cell_type": "code",
   "execution_count": null,
   "metadata": {
    "scrolled": true
   },
   "outputs": [],
   "source": [
    "\"\"\"Do the optimization.\"\"\"\n",
    "start = time.time()\n",
    "res = minimize(costLS1, x0=np.random.randn(n), method=\"COBYLA\")\n",
    "print(\"Runtime:\", (time.time() - start) // 60, \"minutes.\")"
   ]
  },
  {
   "cell_type": "markdown",
   "metadata": {},
   "source": [
    "### <p style=\"text-align: center;\"> Compare the Quantum and Classical Solutions </p>"
   ]
  },
  {
   "cell_type": "code",
   "execution_count": null,
   "metadata": {},
   "outputs": [],
   "source": [
    "print(\"Optimal angles:\", res.x)"
   ]
  },
  {
   "cell_type": "code",
   "execution_count": null,
   "metadata": {},
   "outputs": [],
   "source": [
    "\"\"\"Define function for taking (circuit, optimal angles) --> wavefunction.\"\"\"\n",
    "def qsolution(ansatz, opt_angles):\n",
    "    \"\"\"Returns the wavefunction of the ansatz at the optimal angles.\"\"\"\n",
    "    prog = Program()\n",
    "    memory_map = {\"theta\": opt_angles}\n",
    "    for name, arr in memory_map.items():\n",
    "        for index, value in enumerate(arr):\n",
    "            prog += gates.MOVE(gates.MemoryReference(name, offset=index), value)\n",
    "\n",
    "    ansatz = prog + ansatz\n",
    "    soln = pyquil.quil.percolate_declares(ansatz)\n",
    "    \n",
    "    wfsim = pyquil.api.WavefunctionSimulator()\n",
    "    return wfsim.wavefunction(soln).amplitudes"
   ]
  },
  {
   "cell_type": "code",
   "execution_count": null,
   "metadata": {
    "scrolled": true
   },
   "outputs": [],
   "source": [
    "qxvec = qsolution(circ, res.x)\n",
    "print(qxvec)"
   ]
  },
  {
   "cell_type": "code",
   "execution_count": null,
   "metadata": {},
   "outputs": [],
   "source": [
    "\"\"\"Compare to classical solution.\"\"\"\n",
    "# Get the classical solution\n",
    "Amat = matrix(Acoeffs, Aterms)\n",
    "bvec = vector(Bcoeffs, Bterms)\n",
    "xvec = np.linalg.solve(Amat, bvec)\n",
    "xvec /= np.linalg.norm(xvec)\n",
    "\n",
    "# Compute the fidelity\n",
    "fidelity = abs(np.dot(qxvec.conj(), xvec))**2\n",
    "print(r\"| < xquantum | xclassical > |^2 =\", round(fidelity, 2))"
   ]
  },
  {
   "cell_type": "markdown",
   "metadata": {},
   "source": [
    "**SAVE THIS CELL!**"
   ]
  },
  {
   "cell_type": "code",
   "execution_count": null,
   "metadata": {},
   "outputs": [],
   "source": [
    "\"\"\"SAVE THIS CELL!\n",
    "\n",
    "Optimal angles for Ry product ansatz. Energy of effective Hamiltonian is near 0.001 here.\n",
    "\"\"\"\n",
    "LS1opt_angles = [1.60380032, 1.88421818, 1.61131353, 1.51679728, 1.44425814]"
   ]
  },
  {
   "cell_type": "markdown",
   "metadata": {},
   "source": [
    "# <p style=\"text-align: center;\"> Linear System 2 </p>"
   ]
  },
  {
   "cell_type": "markdown",
   "metadata": {},
   "source": [
    "The second linear system we consider is formed from the Ising model.\n",
    "\n",
    "\\begin{equation}\n",
    "    A_2 := \\frac{1}{\\zeta} \\left(\\eta I + \\sum_{j=1}^{n} X_j + J \\sum_{j=1}^{n-1}Z_jZ_{j+1} \\right)\n",
    "\\end{equation}"
   ]
  },
  {
   "cell_type": "code",
   "execution_count": null,
   "metadata": {},
   "outputs": [],
   "source": [
    "def get_Acoeffs_Aterms_LS2(n: int, zeta: float, eta: float, J: float) -> List[Tuple[complex, str]]:\n",
    "    \"\"\"Returns linear system 2 expressed as weighted Pauli sum.\"\"\"\n",
    "    if n < 0:\n",
    "        raise ValueError(\"Number of qubits must be >= 1.\")\n",
    "    # Add the identity\n",
    "    Acoeffs = [eta / zeta]\n",
    "    Aterms = [\"I\" * n]\n",
    "    \n",
    "    # Add the X terms\n",
    "    Acoeffs += [1 / zeta] * n\n",
    "    xbase = \"X\" + \"I\" * (n - 1)\n",
    "    for ii in range(n, 0, -1):\n",
    "        Aterms.append(xbase[ii:] + xbase[:ii])\n",
    "        \n",
    "    # Add the ZZ terms\n",
    "    Acoeffs += [J / zeta] * (n - 1)\n",
    "    zzbase = \"ZZ\" + \"I\" * (n - 2)\n",
    "    for ii in range(n, 1, -1):\n",
    "        Aterms.append(zzbase[ii:] + zzbase[:ii])\n",
    "    \n",
    "    return Acoeffs, Aterms"
   ]
  },
  {
   "cell_type": "code",
   "execution_count": null,
   "metadata": {},
   "outputs": [],
   "source": [
    "\"\"\"Unit tests for getting LS2.\"\"\"\n",
    "Acoeffs, Aterms = get_Acoeffs_Aterms_LS2(4, 1, 1, 0.1)\n",
    "assert Acoeffs == [1.0, 1.0, 1.0, 1.0, 1.0, 0.1, 0.1, 0.1]\n",
    "assert Aterms == ['IIII', 'XIII', 'IXII', 'IIXI', 'IIIX', 'ZZII', 'IZZI', 'IIZZ']"
   ]
  },
  {
   "cell_type": "code",
   "execution_count": null,
   "metadata": {
    "scrolled": true
   },
   "outputs": [],
   "source": [
    "\"\"\"Terms in effective Hamiltonian for second linear system.\"\"\"\n",
    "# Number of qubits\n",
    "n = 5\n",
    "\n",
    "# Constants\n",
    "zeta = 1.0\n",
    "J = 0.1\n",
    "eta = 1.0\n",
    "\n",
    "# |b> = H|0>\n",
    "Bcoeffs = [1 / 2**(n / 2)] * 2**n\n",
    "paulis = [[\"X\", \"Z\"]] * n\n",
    "prods = list(product(*paulis))\n",
    "Bterms = [\"\".join(p) for p in prods]\n",
    "\n",
    "# Bcoeffs = [1 / 2**(1 / 2)] * 2\n",
    "# Bterms = [\"IXIII\", \"XIXII\"]\n",
    "\n",
    "# Linear system in weighted Paulis\n",
    "Acoeffs, Aterms = get_Acoeffs_Aterms_LS2(n, zeta, eta, J)\n",
    "\n",
    "ham2 = effective_hamiltonian(Acoeffs, Aterms, Bcoeffs, Bterms)\n",
    "\n",
    "print(\"Number of terms:\", len(ham2))\n",
    "print(*ham2, sep=\"\\n\")"
   ]
  },
  {
   "cell_type": "code",
   "execution_count": null,
   "metadata": {},
   "outputs": [],
   "source": [
    "\"\"\"View matrix of linear system we are solving.\"\"\"\n",
    "print(matrix_of_hamiltonian(ham2))"
   ]
  },
  {
   "cell_type": "code",
   "execution_count": null,
   "metadata": {},
   "outputs": [],
   "source": [
    "\"\"\"Parameters/constants.\"\"\"\n",
    "# Computer to run on\n",
    "qcomputer = \"Aspen-7-5Q-B\"  # Five qubit lattice for first linear system\n",
    "# qcomputer = \"Aspen-7-3Q-B\"  # Three qubit lattice for testing optimizer\n",
    "lattice3q = get_qc(qcomputer, as_qvm=True)  # Change to as_qvm=False to run on QC. Must have reservation."
   ]
  },
  {
   "cell_type": "code",
   "execution_count": null,
   "metadata": {},
   "outputs": [],
   "source": [
    "\"\"\"Get an ansatz.\"\"\"\n",
    "circ, creg = yansatz(lattice3q)\n",
    "print(circ)"
   ]
  },
  {
   "cell_type": "code",
   "execution_count": null,
   "metadata": {},
   "outputs": [],
   "source": [
    "\"\"\"Cost function for linear system 2.\"\"\"\n",
    "def costLS2(angles):\n",
    "    val = energy(angles, ham2, circ, lattice3q, shots=10000)\n",
    "    print(\"Current angles:\", angles)\n",
    "    print(\"Current energy:\", val)\n",
    "    return val"
   ]
  },
  {
   "cell_type": "code",
   "execution_count": null,
   "metadata": {},
   "outputs": [],
   "source": [
    "\"\"\"Do the optimization.\"\"\"\n",
    "start = time.time()\n",
    "res = minimize(costLS2, x0=np.random.randn(n), method=\"COBYLA\")\n",
    "print(\"Runtime:\", (time.time() - start) // 60, \"minutes.\")"
   ]
  },
  {
   "cell_type": "code",
   "execution_count": null,
   "metadata": {},
   "outputs": [],
   "source": [
    "print(\"Optimal angles:\", res.x)"
   ]
  },
  {
   "cell_type": "code",
   "execution_count": null,
   "metadata": {},
   "outputs": [],
   "source": [
    "qxvec = qsolution(circ, res.x)\n",
    "print(qxvec)"
   ]
  },
  {
   "cell_type": "code",
   "execution_count": null,
   "metadata": {},
   "outputs": [],
   "source": [
    "\"\"\"Compare to classical solution.\"\"\"\n",
    "# Get the classical solution\n",
    "Amat = matrix(Acoeffs, Aterms)\n",
    "bvec = vector(Bcoeffs, Bterms)\n",
    "xvec = np.linalg.solve(Amat, bvec)\n",
    "xvec /= np.linalg.norm(xvec)\n",
    "\n",
    "# Compute the fidelity\n",
    "fidelity = abs(np.dot(qxvec.conj(), xvec))**2\n",
    "print(r\"| < xquantum | xclassical > |^2 =\", round(fidelity, 2))"
   ]
  },
  {
   "cell_type": "code",
   "execution_count": null,
   "metadata": {},
   "outputs": [],
   "source": [
    "xvec"
   ]
  },
  {
   "cell_type": "code",
   "execution_count": null,
   "metadata": {},
   "outputs": [],
   "source": []
  },
  {
   "cell_type": "code",
   "execution_count": null,
   "metadata": {},
   "outputs": [],
   "source": []
  },
  {
   "cell_type": "markdown",
   "metadata": {},
   "source": [
    "## Running on a Quantum Computer"
   ]
  },
  {
   "cell_type": "markdown",
   "metadata": {},
   "source": [
    "This notebook was made into a script that could be run on Rigetti's Quantum Cloud Services. In particular, we used a three qubit lattice \"Aspen-4-3Q-A,\" the fidelity/noise characterization of which can be found online. In the cell below, we load energy vs iteration data that was computed using our VQE algorithm on this lattice. We then plot it against the simulator result to compare the difference."
   ]
  },
  {
   "cell_type": "code",
   "execution_count": null,
   "metadata": {
    "scrolled": false
   },
   "outputs": [],
   "source": [
    "\"\"\"Plot the QPU energy vs iteration data obtained by running on Rigetti QCS.\"\"\"\n",
    "# Read in the files\n",
    "qpu_energy1 = np.loadtxt(\"qpu-energy-iteration1.txt\")\n",
    "qpu_energy2 = np.loadtxt(\"qpu-energy-iteration2.txt\")\n",
    "\n",
    "# Do the plotting\n",
    "plt.figure(figsize=(10, 5))\n",
    "plt.plot(energies, \"--o\", linewidth=3, label=\"Simulator\")\n",
    "plt.xlabel(\"Iteration\", fontsize=14, fontweight=\"bold\")\n",
    "plt.ylabel(\"Energy\", fontsize=14, fontweight=\"bold\")\n",
    "\n",
    "plt.plot(qpu_energy1, \"--o\", linewidth=3, label=\"Raw QPU Run 1\")\n",
    "plt.plot(qpu_energy2, \"--o\", linewidth=3, label=\"Raw QPU Run 2\")\n",
    "\n",
    "# Put a line at the actual ground state energy (see below)\n",
    "GSENERGY = 0.53232723\n",
    "plt.plot(GSENERGY * np.ones_like(energies), linewidth=3, label=\"Analytic Energy\")\n",
    "\n",
    "plt.grid()\n",
    "plt.legend();"
   ]
  },
  {
   "cell_type": "markdown",
   "metadata": {},
   "source": [
    "## Error Mitigation"
   ]
  },
  {
   "cell_type": "markdown",
   "metadata": {},
   "source": [
    "The QPU data above has a significant vertical shift from the simulator data, but generally the same \"shape.\" This shift is present because of decoherence, gate application errors, measurement errors, and other noise in the system. It can be accounted for by running a set of \"benchmark circuits\" on the QPU prior to running the actual algorithm. These benchmark circuits are simple circuits, such as NOT and MEASURE, for which one knows the actual output. The vertical shift in this benchmark circuit can then be tested for and subtracted from the final computed energies to get more accurate results. Other methods are also possible, and this is an area of active research.\n",
    "\n",
    "Here, we employ a similar idea, but instead of running a benchmark circuit, we just subtract off the difference of the initial energies on the QPU and on the simulator. The cell below implements this and plots the result again."
   ]
  },
  {
   "cell_type": "code",
   "execution_count": null,
   "metadata": {
    "scrolled": true
   },
   "outputs": [],
   "source": [
    "\"\"\"Plot the error mitigated QPU energy vs iteration data obtained by running on Rigetti QCS.\"\"\"\n",
    "# Constant shift amount. In practice, this would be obtained by running a \"benchmark circuit.\"\n",
    "# Here, we just set the value based on the above curves\n",
    "shift = 0.3\n",
    "\n",
    "# Read in the files\n",
    "qpu_energy1 = np.loadtxt(\"qpu-energy-iteration1.txt\")\n",
    "qpu_energy2 = np.loadtxt(\"qpu-energy-iteration2.txt\")\n",
    "\n",
    "# Subtract off the shift\n",
    "qpu_energy1 -= shift\n",
    "qpu_energy2 -= shift\n",
    "\n",
    "# Do the plotting\n",
    "plt.figure(figsize=(10, 5))\n",
    "plt.plot(energies, \"--o\", linewidth=3, label=\"Simulator\")\n",
    "plt.xlabel(\"Iteration\", fontsize=14, fontweight=\"bold\")\n",
    "plt.ylabel(\"Energy\", fontsize=14, fontweight=\"bold\")\n",
    "\n",
    "plt.plot(qpu_energy1, \"--o\", linewidth=3, label=\"Error Mitigated QPU Run 1\")\n",
    "plt.plot(qpu_energy2, \"--o\", linewidth=3, label=\"Error Mitigated QPU Run 2\")\n",
    "\n",
    "# Put a line at the actual ground state energy (see below)\n",
    "GSENERGY = 0.53232723\n",
    "plt.plot(GSENERGY * np.ones_like(energies), linewidth=3, label=\"Analytic Energy\")\n",
    "\n",
    "plt.grid()\n",
    "plt.legend();"
   ]
  },
  {
   "cell_type": "markdown",
   "metadata": {},
   "source": [
    "## Conclusions"
   ]
  },
  {
   "cell_type": "markdown",
   "metadata": {},
   "source": []
  },
  {
   "cell_type": "markdown",
   "metadata": {},
   "source": [
    "## Acknowledgements"
   ]
  },
  {
   "cell_type": "markdown",
   "metadata": {},
   "source": [
    "Thank coauthors and Rigetti."
   ]
  },
  {
   "cell_type": "markdown",
   "metadata": {},
   "source": [
    "## References"
   ]
  },
  {
   "cell_type": "markdown",
   "metadata": {},
   "source": [
    "[1] VQLS\n",
    "\n",
    "[2] HHL\n",
    "\n",
    "[3] QLSP via QSVE\n",
    "\n",
    "[4] Yigit's adiabatic algorithm\n",
    "\n",
    "[5] VQE Original paper\n",
    "\n",
    "[6] Theory of VQE\n",
    "\n",
    "[7] Ryan LaRose et al., [Implementing variational quantum algorithms](https://github.com/rmlarose/qcbq/blob/master/tutorials/04qaoa/qcbq_tutorial4b_implement_qaoa-INSTRUCTOR.ipynb), MSU-IBM Quantum computing bootcamp with Qiskit, 2019. "
   ]
  }
 ],
 "metadata": {
  "kernelspec": {
   "display_name": "Python 3",
   "language": "python",
   "name": "python3"
  },
  "language_info": {
   "codemirror_mode": {
    "name": "ipython",
    "version": 3
   },
   "file_extension": ".py",
   "mimetype": "text/x-python",
   "name": "python",
   "nbconvert_exporter": "python",
   "pygments_lexer": "ipython3",
   "version": "3.6.8"
  }
 },
 "nbformat": 4,
 "nbformat_minor": 2
}
